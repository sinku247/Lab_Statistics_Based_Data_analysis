{
 "cells": [
  {
   "cell_type": "code",
   "execution_count": 6,
   "id": "d8622343",
   "metadata": {},
   "outputs": [
    {
     "name": "stdout",
     "output_type": "stream",
     "text": [
      "[4 6 1 1 3 4 4 6 4 2 3 1 2 6 5 6 2 3 1 1 4 6 3 3 6 6 2 3 1 1 2 6 5 1 2 5 6\n",
      " 2 6 1 6 5 6 2 2 2 6 4 3 6 2 4 6 6 2 6 4 6 2 6 5 3 4 6 1 3 4 2 2 2 6 6 3 3\n",
      " 1 5 6 3 4 1 2 5 5 1 4 4 4 2 3 1 2 1 4 3 3 1 6 6 2 3]\n"
     ]
    },
    {
     "ename": "NameError",
     "evalue": "name 'TRUE' is not defined",
     "output_type": "error",
     "traceback": [
      "\u001b[1;31m---------------------------------------------------------------------------\u001b[0m",
      "\u001b[1;31mNameError\u001b[0m                                 Traceback (most recent call last)",
      "Cell \u001b[1;32mIn[6], line 9\u001b[0m\n\u001b[0;32m      6\u001b[0m \u001b[38;5;28mprint\u001b[39m(data)\n\u001b[0;32m      8\u001b[0m \u001b[38;5;66;03m#빈도수 계산\u001b[39;00m\n\u001b[1;32m----> 9\u001b[0m unique, counts \u001b[38;5;241m=\u001b[39m np\u001b[38;5;241m.\u001b[39munique(data, return_counts\u001b[38;5;241m=\u001b[39m\u001b[43mTRUE\u001b[49m)\n\u001b[0;32m     10\u001b[0m \u001b[38;5;28mprint\u001b[39m (unique)\n\u001b[0;32m     12\u001b[0m \u001b[38;5;28mprint\u001b[39m(counts)\n",
      "\u001b[1;31mNameError\u001b[0m: name 'TRUE' is not defined"
     ]
    }
   ],
   "source": [
    "import numpy as np\n",
    "import matplotlib.pyplot as plt\n",
    "\n",
    "#데이터 생성\n",
    "data = np.random.randint(1, 7, size=100)\n",
    "print(data)\n",
    "\n",
    "#빈도수 계산\n",
    "unique, counts = np.unique(data, return_counts=TRUE)\n",
    "print (unique)\n",
    "\n",
    "print(counts)\n"
   ]
  }
 ],
 "metadata": {
  "kernelspec": {
   "display_name": "AI",
   "language": "python",
   "name": "ai"
  },
  "language_info": {
   "codemirror_mode": {
    "name": "ipython",
    "version": 3
   },
   "file_extension": ".py",
   "mimetype": "text/x-python",
   "name": "python",
   "nbconvert_exporter": "python",
   "pygments_lexer": "ipython3",
   "version": "3.11.3"
  }
 },
 "nbformat": 4,
 "nbformat_minor": 5
}
