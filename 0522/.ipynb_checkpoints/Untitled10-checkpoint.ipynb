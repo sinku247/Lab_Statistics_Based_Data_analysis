{
 "cells": [
  {
   "cell_type": "code",
   "execution_count": 3,
   "id": "f549d47d",
   "metadata": {},
   "outputs": [
    {
     "name": "stdout",
     "output_type": "stream",
     "text": [
      "{'a': array([4, 5, 1, 2, 4, 1, 1, 2, 5, 5]), 'b': array([2, 3, 5, 3, 5, 4, 5, 3, 5, 3]), 'c': array([5, 2, 2, 1, 2, 2, 2, 2, 1, 5])}\n",
      "   a  b  c\n",
      "0  4  2  5\n",
      "1  5  3  2\n",
      "2  1  5  2\n",
      "3  2  3  1\n",
      "4  4  5  2\n",
      "5  1  4  2\n",
      "6  1  5  2\n",
      "7  2  3  2\n",
      "8  5  5  1\n",
      "9  5  3  5\n"
     ]
    }
   ],
   "source": [
    "import pandas as pd\n",
    "import numpy as np\n",
    "\n",
    "#가상 데이터 생성\n",
    "np.random.seed(1)\n",
    "data = {\n",
    "    'a' : np.random.randint(1,6,10),\n",
    "    'b' : np.random.randint(1,6,10),\n",
    "    'c' : np.random.randint(1,6,10),\n",
    "}\n",
    "\n",
    "print(data)\n",
    "\n",
    "df=pd.DataFrame(data)\n",
    "\n",
    "print(df)"
   ]
  },
  {
   "cell_type": "code",
   "execution_count": 8,
   "id": "3146ef1d",
   "metadata": {},
   "outputs": [
    {
     "name": "stdout",
     "output_type": "stream",
     "text": [
      "F-Statistic :  2.296551724137931\n",
      "p-val 0.11992643045704418\n",
      "귀무 가설 채택\n"
     ]
    }
   ],
   "source": [
    "# 일원 분산 분석 수행\n",
    "from scipy.stats import f_oneway\n",
    "\n",
    "f_stat, p_val = f_oneway(df['a'], df['b'],df['c'])\n",
    "print('F-Statistic : ', f_stat)\n",
    "print('p-val', p_val)\n",
    "\n",
    "alpha = 0.05\n",
    "\n",
    "if p_val < alpha :\n",
    "    print('귀무 가설 기각')\n",
    "else :\n",
    "    print('귀무 가설 채택')"
   ]
  }
 ],
 "metadata": {
  "kernelspec": {
   "display_name": "AI",
   "language": "python",
   "name": "ai"
  },
  "language_info": {
   "codemirror_mode": {
    "name": "ipython",
    "version": 3
   },
   "file_extension": ".py",
   "mimetype": "text/x-python",
   "name": "python",
   "nbconvert_exporter": "python",
   "pygments_lexer": "ipython3",
   "version": "3.11.3"
  }
 },
 "nbformat": 4,
 "nbformat_minor": 5
}
