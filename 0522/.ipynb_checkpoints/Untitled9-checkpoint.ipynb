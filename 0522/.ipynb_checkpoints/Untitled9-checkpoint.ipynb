{
 "cells": [
  {
   "cell_type": "code",
   "execution_count": 2,
   "id": "f333b4ff",
   "metadata": {},
   "outputs": [
    {
     "name": "stdout",
     "output_type": "stream",
     "text": [
      "  Gender Smoker Count\n",
      "0      M    Yes    20\n",
      "1      M     No    80\n",
      "2      M     No    40\n",
      "3      M    Yes    60\n",
      "4      F    Yes    40\n",
      "5      F     No   160\n",
      "6      F     No    80\n",
      "7      F    Yes   120\n"
     ]
    },
    {
     "ename": "TypeError",
     "evalue": "pivot_table() got an unexpected keyword argument 'value'",
     "output_type": "error",
     "traceback": [
      "\u001b[1;31m---------------------------------------------------------------------------\u001b[0m",
      "\u001b[1;31mTypeError\u001b[0m                                 Traceback (most recent call last)",
      "Cell \u001b[1;32mIn[2], line 17\u001b[0m\n\u001b[0;32m     14\u001b[0m \u001b[38;5;28mprint\u001b[39m(df)\n\u001b[0;32m     16\u001b[0m \u001b[38;5;66;03m#데이터 프레임을 이용한 분할표 생성\u001b[39;00m\n\u001b[1;32m---> 17\u001b[0m table \u001b[38;5;241m=\u001b[39m \u001b[43mpd\u001b[49m\u001b[38;5;241;43m.\u001b[39;49m\u001b[43mpivot_table\u001b[49m\u001b[43m(\u001b[49m\u001b[43mdf\u001b[49m\u001b[43m,\u001b[49m\u001b[43m \u001b[49m\u001b[43mvalue\u001b[49m\u001b[38;5;241;43m=\u001b[39;49m\u001b[38;5;124;43m'\u001b[39;49m\u001b[38;5;124;43mCount\u001b[39;49m\u001b[38;5;124;43m'\u001b[39;49m\u001b[43m,\u001b[49m\u001b[43mindex\u001b[49m\u001b[38;5;241;43m=\u001b[39;49m\u001b[38;5;124;43m'\u001b[39;49m\u001b[38;5;124;43mGender\u001b[39;49m\u001b[38;5;124;43m'\u001b[39;49m\u001b[43m,\u001b[49m\u001b[43m \u001b[49m\u001b[43mcolumns\u001b[49m\u001b[38;5;241;43m=\u001b[39;49m\u001b[38;5;124;43m'\u001b[39;49m\u001b[38;5;124;43mSmoker\u001b[39;49m\u001b[38;5;124;43m'\u001b[39;49m\u001b[43m)\u001b[49m\n\u001b[0;32m     18\u001b[0m \u001b[38;5;28mprint\u001b[39m(table)\n\u001b[0;32m     20\u001b[0m \u001b[38;5;66;03m#chi2_contingency\u001b[39;00m\n",
      "\u001b[1;31mTypeError\u001b[0m: pivot_table() got an unexpected keyword argument 'value'"
     ]
    }
   ],
   "source": [
    "import pandas as pd\n",
    "import numpy as np\n",
    "from scipy.stats import chi2_contingency\n",
    "\n",
    "#가상 데이터 생성\n",
    "data = {\n",
    "    'Gender' : ['M','M','M','M','F','F','F','F'],\n",
    "    'Smoker' : ['Yes','No','No','Yes','Yes','No','No','Yes'],\n",
    "    'Count'  : ['20','80','40','60','40','160','80','120']\n",
    "}\n",
    "\n",
    "df = pd.DataFrame(data)\n",
    "\n",
    "print(df)\n",
    "\n",
    "#데이터 프레임을 이용한 분할표 생성\n",
    "table = pd.pivot_table(df, value='Count',index='Gender', columns='Smoker')\n",
    "print(table)\n",
    "\n",
    "#chi2_contingency\n",
    "stat, p, dof, expected = chi2_contingency(table)\n",
    "alpha=0.05\n",
    "\n",
    "print(p)\n",
    "if p <alpha :\n",
    "    print(\"귀무 가설 기각\")\n",
    "else :\n",
    "    print(\"귀무 가설 채택\")"
   ]
  }
 ],
 "metadata": {
  "kernelspec": {
   "display_name": "AI",
   "language": "python",
   "name": "ai"
  },
  "language_info": {
   "codemirror_mode": {
    "name": "ipython",
    "version": 3
   },
   "file_extension": ".py",
   "mimetype": "text/x-python",
   "name": "python",
   "nbconvert_exporter": "python",
   "pygments_lexer": "ipython3",
   "version": "3.11.3"
  }
 },
 "nbformat": 4,
 "nbformat_minor": 5
}
