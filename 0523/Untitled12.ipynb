{
 "cells": [
  {
   "cell_type": "code",
   "execution_count": 1,
   "id": "ba07c941",
   "metadata": {},
   "outputs": [],
   "source": [
    "import numpy as np \n",
    "from scipy import stats\n"
   ]
  },
  {
   "cell_type": "code",
   "execution_count": 3,
   "id": "ceb9a260",
   "metadata": {},
   "outputs": [],
   "source": [
    "np.random.seed(42)\n",
    "\n",
    "# 모수 검정용 데이터 생성 \n",
    "n = 100\n",
    "mu1, mu2 = 0, 0.5\n",
    "sigma = 1 \n",
    "data1 = np.random.normal(mu1, sigma, n)\n",
    "data2 = np.random.normal(mu2, sigma, n)"
   ]
  },
  {
   "cell_type": "code",
   "execution_count": 6,
   "id": "c3ff6582",
   "metadata": {},
   "outputs": [
    {
     "name": "stdout",
     "output_type": "stream",
     "text": [
      "[0.07056875 0.64241928 0.02651131 0.58577558 0.94023024 0.57547418\n",
      " 0.38816993 0.64328822 0.45825289 0.54561679 0.94146481 0.38610264\n",
      " 0.96119056 0.90535064 0.19579113 0.0693613  0.100778   0.01822183\n",
      " 0.09444296 0.68300677 0.07118865 0.31897563 0.84487531 0.02327194\n",
      " 0.81446848 0.28185477 0.11816483 0.69673717 0.62894285 0.87747201] [1.23507104 1.30348093 0.78203457 0.67743954 1.25061475 1.30683474\n",
      " 1.49050514 0.91261768 0.87201809 1.27641296 0.84080354 1.43075733\n",
      " 1.35841275 0.92899403 1.25087107 1.25454287 0.60312387 1.40255291\n",
      " 1.00525237 1.32645747 0.8200496  1.39552323 0.88920168 0.51083765\n",
      " 1.40538198 0.59128668 0.81931364 1.45006197 1.45060715 1.07343789]\n"
     ]
    }
   ],
   "source": [
    "# 비모수 검정용 데이터 생성 \n",
    "m = 30 \n",
    "data3 = np.random.uniform(0,1,m)\n",
    "data4 = np.random.uniform(0.5, 1.5 ,m)\n",
    "\n",
    "print(data3, data4)"
   ]
  },
  {
   "cell_type": "code",
   "execution_count": 7,
   "id": "ea3c4e10",
   "metadata": {},
   "outputs": [
    {
     "name": "stdout",
     "output_type": "stream",
     "text": [
      "-4.754695943505288 3.819135262679341e-06\n"
     ]
    }
   ],
   "source": [
    "# 데이터 생성 완료 -> 모수 검정 실시 !! \n",
    "t_stat, p_val = stats.ttest_ind(data1, data2)\n",
    "print(t_stat, p_val)"
   ]
  },
  {
   "cell_type": "code",
   "execution_count": 8,
   "id": "bac67ff5",
   "metadata": {},
   "outputs": [
    {
     "name": "stdout",
     "output_type": "stream",
     "text": [
      "88.0 9.063205240555394e-08\n"
     ]
    }
   ],
   "source": [
    "# 데이터 생성 완료 -> 비모수 검정 실시 !! \n",
    "u_stat, p_val = stats.mannwhitneyu(data3, data4)\n",
    "\n",
    "print(u_stat, p_val)"
   ]
  },
  {
   "cell_type": "code",
   "execution_count": null,
   "id": "03d8c774",
   "metadata": {},
   "outputs": [],
   "source": []
  }
 ],
 "metadata": {
  "kernelspec": {
   "display_name": "AI",
   "language": "python",
   "name": "ai"
  },
  "language_info": {
   "codemirror_mode": {
    "name": "ipython",
    "version": 3
   },
   "file_extension": ".py",
   "mimetype": "text/x-python",
   "name": "python",
   "nbconvert_exporter": "python",
   "pygments_lexer": "ipython3",
   "version": "3.8.12"
  }
 },
 "nbformat": 4,
 "nbformat_minor": 5
}
