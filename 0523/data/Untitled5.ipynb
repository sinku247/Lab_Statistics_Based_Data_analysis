{
 "cells": [
  {
   "cell_type": "code",
   "execution_count": 4,
   "id": "f7676538",
   "metadata": {},
   "outputs": [],
   "source": [
    "import numpy as np\n",
    "import matplotlib.pyplot as plt\n",
    "from scipy.stats import poisson"
   ]
  },
  {
   "cell_type": "code",
   "execution_count": 5,
   "id": "7987d480",
   "metadata": {},
   "outputs": [
    {
     "name": "stdout",
     "output_type": "stream",
     "text": [
      "[ 4  4  3  2  4  3  2  2  3  2  3  3  2  4  3  5  2  6  4  4  0  3  4  5\n",
      "  6  4  3  4  4  1  3  4  4  2  3  4  3  3  4  1  4  2  4  4  4  7  1  1\n",
      "  2  1  3  3  3  2  2  3  2  2  6  6  3  1  4  0  7  3  4  2  1  4  3  3\n",
      "  3  5  1  5  2  3  2  3  2  2  4  6  1  3  2  8  1  4  2  2  1  1  5  3\n",
      "  3  5  2  8  2  4  5  2  3  5  5  2  2  2  2  1  3  3  5  1  1  3  3  0\n",
      "  6  4  5  3  3  5  0  4  1  1  5  1  3  3  2  6  4  0  3  2  3  2  5  4\n",
      "  7  6  1  0  1  2  4  3  3  4  2  2  5  2  4  1  3  2  5  5  2  4  3  5\n",
      "  5  4  1  3  1  3  1  5  5  5  2  2  1  2  7  2  1  1  5  5  0  1  2  2\n",
      "  3  6  4  3  4  5  2  3  7  4  1  1  2  0  1  4  0  4  1  1  5  2  5  2\n",
      "  3  4  4  5  5  5  4  3  3  7  3  3  2  8  1  7  3  3  2  1  3  2  3  0\n",
      "  3  4  9  2  2  4  2  3  3  2  3  3  3  2  1  4  2  3  1  2  2  1  1  4\n",
      "  3  4  2  4  1  3  9  5  2  1  3  4  3  3  6  3  3  9  3  3  3 10  0  4\n",
      "  2  3  2  3  4  3  2  2  4  2  2  2  5  2  2  1  4  0  3  3  3  4  2  6\n",
      "  4  2  5  1  3  2  1  2  2  6  1  2  3  1  4  1  6  2  2  2  4  6  2  1\n",
      "  2  1  3  2  3  2  5  5  2  6  3  4  3  3  4  4 10  1  6  3  2  2  3  3\n",
      "  2  2  1  0  5  4  6  5  3  2  1  1  2  2  3  2  3  2  2  4  3  4  2  3\n",
      "  5  5  2  2  4  2  3  3  3  2  5  1  1  2  2  1  6  3  2  7  4  3  4  5\n",
      "  3  1  4  2  3  5  4  3  3  4  2  3  2  5  3  5  1  0  3  5  6  1  0  0\n",
      "  7  4  5  3  0  2  5  5  5  2  2  4  5  6  1  2  1  3  4  3  2  2  2  3\n",
      "  1  5  2  1  2  6  2  5  3  8  1  3  3  4  6  3  3  3  2  2  3  3  6  7\n",
      "  5  3  4  3  4  1  2  4  3  0  4  3  4  2  3  3  4  0  2  3  6  2  1  3\n",
      "  2  3  4  5  3  3  2  4  1  4  2  3  1  2  1  4  5  1  2  3  7  4  1  2\n",
      "  3  2  3  3  4  6  3  1  0  2  2  4  4  4  1  2  4  4  0  5  4  3  1  3\n",
      "  5  1  5  2  6  1  1  2  5  6  3  2  1  5  3  4  2  3  0  4  3  3  2  5\n",
      "  2  0  3  3  3  0  4  1  4  2  6  4  2  5  4  4  3  3  2  0  5  4  6  2\n",
      "  3  5  1  7  2  3  2  3  1  2  1  5  4  2  1  4  4  2  2  4  2  2  2  1\n",
      "  3  0  2  3  1  6  2  5  4  5  5  3  5  2  4  6  3  5  6  4  2  4  1  1\n",
      "  3  1  4  2  2  4  1  0  5  4  4  5  1  3  4  0  1  2  4  6  1  0  6  4\n",
      "  1  2  4  2  3  1  2  1  1  4  0  1  2  2  1  4  4  4  4  4  6  2  2  3\n",
      "  2  2  5  3  3  4  4  6  2  1  3  3  3  5  1  1  1  7  3  5  4  4  2  2\n",
      "  2  4  6  2  4  2  2  5  2  3  1  6  1  5  5  2  3  1  4  3  1  7  3  2\n",
      "  5  4  2  4  3  3  6  8  4  2  4  1  1  1  4  4  1  0  1  3  3  4  5  4\n",
      "  3  4  1  2  3  2  0  2  3  1  4  2  2  4  2  4  4  3  5  7  4  3  2  0\n",
      "  0  3  6  5  2  1  5  3  2  4  1  1  5  2  6  3  1  2  4  1  3  4  8  3\n",
      "  1  2  1  1  5  4  4  4  4  1  4  7  5  1  4  3  0  2  2  3  4  4  6  5\n",
      "  2  5  2  1  2  4  3  2  2  3  1  2  4  2  3  2  2  2  2  3  4  2  6  1\n",
      "  1  3  0  0  5  5  4  2  4  3  1  4  4  2  5  1  6  3  2  7  3  0  4  2\n",
      "  1  2  0  6  6  1  3  4  2  1  3  2  4  1  4  2  2  0 12  2  2  4  3  4\n",
      "  2  2  4  1  6  3  4  2  2  4  3  6  1  3  2  6  4  0  3  1  6  1  3  1\n",
      "  6  6  4  3  0  2  3  1  4  3  2  3  4  3  5  2  4  2  4  4  7  3  2  5\n",
      "  5  4  4  3  2  0  5  2  3  2  4  3  4  4  2  2  1  3  3  4  3  5  2  4\n",
      "  6  2  2  4  3  2  5  5  5  1  2  1  5  3  5  4]\n"
     ]
    },
    {
     "data": {
      "image/png": "[encoded data removed]",
      "text/plain": [
       "<Figure size 640x480 with 1 Axes>"
      ]
     },
     "metadata": {},
     "output_type": "display_data"
    }
   ],
   "source": [
    "#사건 발생 평균 횟수\n",
    "lambda_param = 3\n",
    "\n",
    "#포아송 분포 시뮬레이션\n",
    "num_simulations = 1000\n",
    "events = np.random.poisson(lambda_param, num_simulations)\n",
    "print(events)\n",
    "\n",
    "plt.hist(events, bins=10, alpha=0.8)\n",
    "plt.show()"
   ]
  }
 ],
 "metadata": {
  "kernelspec": {
   "display_name": "AI",
   "language": "python",
   "name": "ai"
  },
  "language_info": {
   "codemirror_mode": {
    "name": "ipython",
    "version": 3
   },
   "file_extension": ".py",
   "mimetype": "text/x-python",
   "name": "python",
   "nbconvert_exporter": "python",
   "pygments_lexer": "ipython3",
   "version": "3.11.3"
  }
 },
 "nbformat": 4,
 "nbformat_minor": 5
}
