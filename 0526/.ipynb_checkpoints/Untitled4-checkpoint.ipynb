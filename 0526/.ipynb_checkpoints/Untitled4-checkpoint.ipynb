{
 "cells": [
  {
   "cell_type": "code",
   "execution_count": 16,
   "id": "70654f62",
   "metadata": {},
   "outputs": [
    {
     "name": "stdout",
     "output_type": "stream",
     "text": [
      "sample 1 :\n",
      "statistic: 0.0\n",
      "p-value: 0.001953125\n",
      "different distribution (reject H0)\n",
      "sample 2 :\n",
      "statistic: 0.0\n",
      "p-value: 0.007632441648205508\n",
      "different distribution (reject H0)\n",
      "sample 3 :\n",
      "statistic: 0.0\n",
      "p-value: 0.007632441648205508\n",
      "different distribution (reject H0)\n",
      "sample 4 :\n",
      "statistic: 0.0\n",
      "p-value: 0.001953125\n",
      "different distribution (reject H0)\n",
      "sample 5 :\n",
      "statistic: 0.0\n",
      "p-value: 0.007264382942252025\n",
      "different distribution (reject H0)\n",
      "sample 6 :\n",
      "statistic: 0.0\n",
      "p-value: 0.001953125\n",
      "different distribution (reject H0)\n",
      "sample 7 :\n",
      "statistic: 0.0\n",
      "p-value: 0.007420961287866498\n",
      "different distribution (reject H0)\n",
      "sample 8 :\n",
      "statistic: 0.0\n",
      "p-value: 0.001953125\n",
      "different distribution (reject H0)\n",
      "sample 9 :\n",
      "statistic: 0.0\n",
      "p-value: 0.001953125\n",
      "different distribution (reject H0)\n",
      "sample 10 :\n",
      "statistic: 0.0\n",
      "p-value: 0.007526315166457887\n",
      "different distribution (reject H0)\n",
      "Bonferroni\n",
      "sample 1: different distribution (reject H0)\n",
      "sample 2: same distribution (fail to reject H0)\n",
      "sample 3: same distribution (fail to reject H0)\n",
      "sample 4: different distribution (reject H0)\n",
      "sample 5: same distribution (fail to reject H0)\n",
      "sample 6: different distribution (reject H0)\n",
      "sample 7: same distribution (fail to reject H0)\n",
      "sample 8: different distribution (reject H0)\n",
      "sample 9: different distribution (reject H0)\n",
      "sample 10: same distribution (fail to reject H0)\n"
     ]
    },
    {
     "name": "stderr",
     "output_type": "stream",
     "text": [
      "C:\\ProgramData\\miniconda3\\envs\\AI\\Lib\\site-packages\\scipy\\stats\\_morestats.py:3414: UserWarning: Exact p-value calculation does not work if there are zeros. Switching to normal approximation.\n",
      "  warnings.warn(\"Exact p-value calculation does not work if there are \"\n",
      "C:\\ProgramData\\miniconda3\\envs\\AI\\Lib\\site-packages\\scipy\\stats\\_morestats.py:3428: UserWarning: Sample size too small for normal approximation.\n",
      "  warnings.warn(\"Sample size too small for normal approximation.\")\n"
     ]
    }
   ],
   "source": [
    "import pandas as pd\n",
    "from scipy.stats import wilcoxon\n",
    "from statsmodels.stats.multitest import multipletests\n",
    "#데이터 불러오기\n",
    "data = pd.read_csv('./data/treatment_data.csv')\n",
    "\n",
    "p_values = []\n",
    "\n",
    "#여러 개의 가설 검정 수행\n",
    "for i in range(10):\n",
    "    #랜덤으로 데이터를 선택해 윌콕슨 부호 순위 검정 수행\n",
    "    sample = data.sample(frac=0.5)\n",
    "    stat,p = wilcoxon(sample['pre_treatment'],sample['post_treatment'])\n",
    "    print('sample', i+1, ':')\n",
    "    print('statistic:', stat)\n",
    "    print('p-value:',p)\n",
    "    p_values.append(p)\n",
    "    if p > 0.05:\n",
    "        print('same distribution (fail to reject HO)')\n",
    "    else:\n",
    "        print('different distribution (reject H0)')\n",
    "        \n",
    "alpha=0.05\n",
    "rejects_bonf, corrected_p_bonf, _, _ = multipletests(p_values, alpha=alpha, method='bonferroni')\n",
    "print('Bonferroni')\n",
    "for i in range(len(rejects_bonf)):\n",
    "    if rejects_bonf[i]:\n",
    "        print(f'sample {i+1}: different distribution (reject H0)')\n",
    "    else:\n",
    "        print(f'sample {i+1}: same distribution (fail to reject H0)')"
   ]
  }
 ],
 "metadata": {
  "kernelspec": {
   "display_name": "AI",
   "language": "python",
   "name": "ai"
  },
  "language_info": {
   "codemirror_mode": {
    "name": "ipython",
    "version": 3
   },
   "file_extension": ".py",
   "mimetype": "text/x-python",
   "name": "python",
   "nbconvert_exporter": "python",
   "pygments_lexer": "ipython3",
   "version": "3.11.3"
  }
 },
 "nbformat": 4,
 "nbformat_minor": 5
}
