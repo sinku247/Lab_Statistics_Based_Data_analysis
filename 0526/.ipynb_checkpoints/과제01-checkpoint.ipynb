{
 "cells": [
  {
   "cell_type": "code",
   "execution_count": 1,
   "id": "211ca665",
   "metadata": {},
   "outputs": [],
   "source": [
    "import numpy as np \n",
    "import pandas as pd \n",
    "\n",
    "# 가상 데이터 생성 -> 학생 데이터\n",
    "np.random.seed(42)\n",
    "math_scores = np.random.normal(loc=70, scale=10, size=(300,))\n",
    "english_scores = np.random.normal(loc=80, scale=8, size=(300,))\n",
    "korean_scores = np.random.normal(loc=65, scale=12, size=(300,))\n",
    "\n",
    "# 학년 데이터 생성 \n",
    "grades = np.repeat([1,2,3], 100)\n",
    "\n",
    "# 데이터 프레임 생성 \n",
    "df = pd.DataFrame({\n",
    "    'Grade' : grades,\n",
    "    'Math' : math_scores,\n",
    "    'English' : english_scores,\n",
    "    'Korean' : korean_scores\n",
    "})\n",
    "\n",
    "# csv 파일로 저장 \n",
    "df.to_csv('./data/student_scores.csv', index=False, encoding='utf-8')"
   ]
  },
  {
   "cell_type": "code",
   "execution_count": 2,
   "id": "263c91df",
   "metadata": {},
   "outputs": [
    {
     "name": "stdout",
     "output_type": "stream",
     "text": [
      "     Grade       Math    English     Korean\n",
      "0        1  74.967142  73.368040  74.083863\n",
      "1        1  68.617357  75.518552  53.934016\n",
      "2        1  76.476885  85.978349  75.435271\n",
      "3        1  85.230299  84.882962  81.267654\n",
      "4        1  67.658466  79.832787  69.961219\n",
      "..     ...        ...        ...        ...\n",
      "295      3  63.070904  75.919869  72.784519\n",
      "296      3  78.995999  77.841001  62.994583\n",
      "297      3  73.072995  72.169890  66.760564\n",
      "298      3  78.128621  76.445654  79.478108\n",
      "299      3  76.296288  83.018404  55.196772\n",
      "\n",
      "[300 rows x 4 columns]\n"
     ]
    }
   ],
   "source": [
    "# csv 읽기 \n",
    "df = pd.read_csv('./data/student_scores.csv')\n",
    "print(df)"
   ]
  },
  {
   "cell_type": "code",
   "execution_count": 3,
   "id": "3328f465",
   "metadata": {},
   "outputs": [],
   "source": [
    "# 상관분석 corr()\n",
    "# df_temp = df.corr()\n",
    "# print(df)\n",
    "\n",
    "# # 상관분석 히트맵 시각화 \n",
    "# import seaborn as sns\n",
    "# sns.heatmap(df_temp , annot=True)"
   ]
  },
  {
   "cell_type": "markdown",
   "id": "cc6d6d23",
   "metadata": {},
   "source": [
    "## 이제 각 과목별로 성적 분포와 통계치를 분석 \n"
   ]
  },
  {
   "cell_type": "code",
   "execution_count": 4,
   "id": "7671d9c2",
   "metadata": {},
   "outputs": [
    {
     "name": "stdout",
     "output_type": "stream",
     "text": [
      "count    300.000000\n",
      "mean      65.986329\n",
      "std       11.960118\n",
      "min       32.637360\n",
      "25%       58.142297\n",
      "50%       65.512886\n",
      "75%       73.537635\n",
      "max       96.588585\n",
      "Name: Korean, dtype: float64\n"
     ]
    }
   ],
   "source": [
    "# 수학 성적 분포 분석 \n",
    "math_stats = df['Math'].describe()\n",
    "\n",
    "# 영어 성적 분포 분석\n",
    "english_stats = df['English'].describe()\n",
    "\n",
    "# 국어 성적 분포 분석 \n",
    "korean_stats = df['Korean'].describe()\n",
    "print(korean_stats)"
   ]
  },
  {
   "cell_type": "code",
   "execution_count": null,
   "id": "cefdd40a",
   "metadata": {},
   "outputs": [],
   "source": []
  }
 ],
 "metadata": {
  "kernelspec": {
   "display_name": "AI",
   "language": "python",
   "name": "ai"
  },
  "language_info": {
   "codemirror_mode": {
    "name": "ipython",
    "version": 3
   },
   "file_extension": ".py",
   "mimetype": "text/x-python",
   "name": "python",
   "nbconvert_exporter": "python",
   "pygments_lexer": "ipython3",
   "version": "3.8.12"
  }
 },
 "nbformat": 4,
 "nbformat_minor": 5
}
