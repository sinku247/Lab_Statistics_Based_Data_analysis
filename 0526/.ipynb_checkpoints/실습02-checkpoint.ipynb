{
 "cells": [
  {
   "cell_type": "code",
   "execution_count": 1,
   "id": "f1c21186",
   "metadata": {},
   "outputs": [],
   "source": [
    "# 환자의 치료 전과 후를 비교하여 효과성을 평가하는 코드 실습 \n",
    "# 데이터 -> 랜덤 더미 데이터 !! \n",
    "\n",
    "import numpy as np \n",
    "import pandas as pd \n",
    "from scipy.stats import wilcoxon"
   ]
  },
  {
   "cell_type": "markdown",
   "id": "ff25780a",
   "metadata": {},
   "source": [
    "## 치료 전, 후 데이터 랜덤하게 생성 "
   ]
  },
  {
   "cell_type": "code",
   "execution_count": 2,
   "id": "a41c66c7",
   "metadata": {},
   "outputs": [
    {
     "name": "stdout",
     "output_type": "stream",
     "text": [
      "    pre_treatment  post_treatment\n",
      "0               4               3\n",
      "1               3               1\n",
      "2               1               2\n",
      "3               9               3\n",
      "4               9               0\n",
      "5               4              -3\n",
      "6               7               1\n",
      "7               7              -3\n",
      "8               4              -3\n",
      "9               8              -2\n",
      "10              7              -3\n",
      "11              7               0\n",
      "12              4              -2\n",
      "13              6               2\n",
      "14              5              -2\n",
      "15              3               2\n",
      "16              5              -1\n",
      "17              6              -3\n",
      "18              1               3\n",
      "19              2              -2\n"
     ]
    }
   ],
   "source": [
    "pre_treatment = np.random.randint(1,10, size=20)\n",
    "post_treatment = np.random.randint(-3,4, size=20)\n",
    "\n",
    "# 데이터 프레임 \n",
    "data  = pd.DataFrame({\n",
    "    \"pre_treatment\" : pre_treatment,\n",
    "    \"post_treatment\" : post_treatment\n",
    "})\n",
    "\n",
    "print(data)\n",
    "data.to_csv(\"./data/treatment_data.csv\", index=False, encoding='utf-8')"
   ]
  },
  {
   "cell_type": "markdown",
   "id": "e535a6aa",
   "metadata": {},
   "source": [
    "## 환자의 치료 전과 후를 비교하여 효과성 평가 "
   ]
  },
  {
   "cell_type": "code",
   "execution_count": 4,
   "id": "b8f177a0",
   "metadata": {},
   "outputs": [
    {
     "name": "stdout",
     "output_type": "stream",
     "text": [
      "6.5 3.62396240234375e-05\n"
     ]
    }
   ],
   "source": [
    "# data 가져오기\n",
    "treatment_data = pd.read_csv(\"./data/treatment_data.csv\")\n",
    "# print(treatment_data)\n",
    "\n",
    "# 월콕슨 부호 순위 검정 수행 \n",
    "stat, p = wilcoxon(data['pre_treatment'], data['post_treatment'])\n",
    "\n",
    "print(stat, p)"
   ]
  },
  {
   "cell_type": "code",
   "execution_count": null,
   "id": "5a810932",
   "metadata": {},
   "outputs": [],
   "source": [
    "if p > 0.05 : \n",
    "    print(\"fail to reject HO\")\n",
    "else : \n",
    "    print(\"reject HO\")"
   ]
  }
 ],
 "metadata": {
  "kernelspec": {
   "display_name": "AI",
   "language": "python",
   "name": "ai"
  },
  "language_info": {
   "codemirror_mode": {
    "name": "ipython",
    "version": 3
   },
   "file_extension": ".py",
   "mimetype": "text/x-python",
   "name": "python",
   "nbconvert_exporter": "python",
   "pygments_lexer": "ipython3",
   "version": "3.8.12"
  }
 },
 "nbformat": 4,
 "nbformat_minor": 5
}
