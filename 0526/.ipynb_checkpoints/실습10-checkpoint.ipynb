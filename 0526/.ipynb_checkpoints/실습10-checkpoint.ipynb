{
 "cells": [
  {
   "cell_type": "code",
   "execution_count": null,
   "id": "9dee9d8f",
   "metadata": {},
   "outputs": [],
   "source": [
    "import numpy as np \n",
    "from scipy.stats import kruskal\n",
    "\n",
    "# 데이터 생성 \n",
    "np.random.seed(1)\n",
    "group1 = np.random.normal(loc=5, scale=1, size=20)\n",
    "group2 = np.random.normal(loc=7, scale=1, size=25)\n",
    "group3 = np.random.normal(loc=10, scale=1, size=15)"
   ]
  }
 ],
 "metadata": {
  "kernelspec": {
   "display_name": "AI",
   "language": "python",
   "name": "ai"
  },
  "language_info": {
   "codemirror_mode": {
    "name": "ipython",
    "version": 3
   },
   "file_extension": ".py",
   "mimetype": "text/x-python",
   "name": "python",
   "nbconvert_exporter": "python",
   "pygments_lexer": "ipython3",
   "version": "3.8.12"
  }
 },
 "nbformat": 4,
 "nbformat_minor": 5
}
