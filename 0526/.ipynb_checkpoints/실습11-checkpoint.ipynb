{
 "cells": [
  {
   "cell_type": "code",
   "execution_count": 1,
   "id": "babdb8df",
   "metadata": {},
   "outputs": [],
   "source": [
    "import numpy as np\n",
    "from scipy.stats import friedmanchisquare\n",
    "import matplotlib.pyplot as plt\n",
    "\n",
    "# 데이터 생성\n",
    "np.random.seed(1)\n",
    "group1 = np.random.normal(loc=10, scale=2, size=10)\n",
    "group2 = np.random.normal(loc=12, scale=2, size=10)\n",
    "group3 = np.random.normal(loc=15, scale=2, size=10)\n",
    "data = np.stack([group1, group2, group3], axis=1)\n",
    "\n",
    "print(data)\n",
    "print()\n",
    "\n",
    "# 프리드만 검정 수행\n",
    "statistic, pvalue = friedmanchisquare(*data.T)\n",
    "print(\"프리드만 검정 결과\")\n",
    "print(f\"검정 통계량: {statistic}\")\n",
    "print(f\"p-value: {pvalue}\")\n",
    "\n",
    "# 박스플롯으로 시각화\n",
    "fig, ax = plt.subplots()\n",
    "ax.boxplot(data)\n",
    "ax.set_xticklabels(['Group 1', 'Group 2', 'Group 3'])\n",
    "ax.set_ylabel('Value')\n",
    "ax.set_title('Friedman Test Result')\n",
    "plt.show()\n"
   ]
  },
  {
   "cell_type": "code",
   "execution_count": null,
   "id": "58b229cd",
   "metadata": {},
   "outputs": [],
   "source": []
  }
 ],
 "metadata": {
  "kernelspec": {
   "display_name": "AI",
   "language": "python",
   "name": "ai"
  },
  "language_info": {
   "codemirror_mode": {
    "name": "ipython",
    "version": 3
   },
   "file_extension": ".py",
   "mimetype": "text/x-python",
   "name": "python",
   "nbconvert_exporter": "python",
   "pygments_lexer": "ipython3",
   "version": "3.8.12"
  }
 },
 "nbformat": 4,
 "nbformat_minor": 5
}
