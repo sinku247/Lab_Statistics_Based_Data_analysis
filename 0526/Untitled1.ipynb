{
 "cells": [
  {
   "cell_type": "code",
   "execution_count": 2,
   "id": "44cb7ee0",
   "metadata": {},
   "outputs": [],
   "source": [
    "import numpy as np\n",
    "from scipy.stats import wilcoxon"
   ]
  },
  {
   "cell_type": "code",
   "execution_count": 4,
   "id": "8ad39230",
   "metadata": {},
   "outputs": [],
   "source": [
    "#데이터 생성(2개 필요)\n",
    "data1 = [20,25,30,35,40,45,50,55,60,65]\n",
    "data2 = [10,20,25,30,35,40,45,50,55,60]"
   ]
  },
  {
   "cell_type": "code",
   "execution_count": 7,
   "id": "becccb60",
   "metadata": {},
   "outputs": [
    {
     "name": "stdout",
     "output_type": "stream",
     "text": [
      "0.0\n"
     ]
    }
   ],
   "source": [
    "####월콕슨 부호 검정 수행\n",
    "stat, p = wilcoxon(data1, data2)\n",
    "\n",
    "print(stat)\n",
    "#stat은 두 집단 간의 순위 차이를 나타내고, p는 윌콕슨 순위합 검정 결과에서 귀무가설을 기각할 수 있는 유의성을 나타냄."
   ]
  },
  {
   "cell_type": "code",
   "execution_count": 8,
   "id": "8dadb27c",
   "metadata": {},
   "outputs": [
    {
     "name": "stdout",
     "output_type": "stream",
     "text": [
      "reject HO\n"
     ]
    }
   ],
   "source": [
    "if p > 0.05 :\n",
    "    print(\"fail to reject HO\")\n",
    "else : print(\"reject HO\")"
   ]
  }
 ],
 "metadata": {
  "kernelspec": {
   "display_name": "AI",
   "language": "python",
   "name": "ai"
  },
  "language_info": {
   "codemirror_mode": {
    "name": "ipython",
    "version": 3
   },
   "file_extension": ".py",
   "mimetype": "text/x-python",
   "name": "python",
   "nbconvert_exporter": "python",
   "pygments_lexer": "ipython3",
   "version": "3.11.3"
  }
 },
 "nbformat": 4,
 "nbformat_minor": 5
}
