{
 "cells": [
  {
   "cell_type": "code",
   "execution_count": 1,
   "id": "6d5f6fd2",
   "metadata": {},
   "outputs": [],
   "source": [
    "import pandas as pd \n",
    "import seaborn as sns\n",
    "import matplotlib.pyplot as plt \n",
    "from scipy.stats import wilcoxon"
   ]
  },
  {
   "cell_type": "code",
   "execution_count": 5,
   "id": "536593ef",
   "metadata": {
    "scrolled": true
   },
   "outputs": [
    {
     "name": "stdout",
     "output_type": "stream",
     "text": [
      "    pre_treatment  post_treatment\n",
      "0               3               6\n",
      "1               7               7\n",
      "2               7              10\n",
      "3               9               8\n",
      "4               3               6\n",
      "5               1               3\n",
      "6               6               5\n",
      "7               3               3\n",
      "8               2              -1\n",
      "9               8               5\n",
      "10              1              -1\n",
      "11              4               4\n",
      "12              4               4\n",
      "13              8               8\n",
      "14              4               5\n",
      "15              8               7\n",
      "16              9              12\n",
      "17              4               5\n",
      "18              4               7\n",
      "19              5               3\n",
      "47.0 0.4529203011037244\n"
     ]
    },
    {
     "name": "stderr",
     "output_type": "stream",
     "text": [
      "/opt/homebrew/Caskroom/miniforge/base/envs/AI/lib/python3.8/site-packages/scipy/stats/_morestats.py:3145: UserWarning: Exact p-value calculation does not work if there are ties. Switching to normal approximation.\n",
      "  warnings.warn(\"Exact p-value calculation does not work if there are \"\n"
     ]
    }
   ],
   "source": [
    "# 데이터 불러오기 \n",
    "data = pd.read_csv(\"./data/treatment_data.csv\")\n",
    "print(data)\n",
    "\n",
    "# 두변수 간의 차이 검정 \n",
    "stat, p = wilcoxon(data['pre_treatment'], data['post_treatment'])\n",
    "print(stat, p)"
   ]
  },
  {
   "cell_type": "markdown",
   "id": "20f45088",
   "metadata": {},
   "source": [
    "# 검정 결과 시각화"
   ]
  },
  {
   "cell_type": "code",
   "execution_count": 6,
   "id": "e0368483",
   "metadata": {},
   "outputs": [
    {
     "name": "stdout",
     "output_type": "stream",
     "text": [
      "Smae distribution\n"
     ]
    },
    {
     "data": {
      "image/png": "[encoded data removed]",
      "text/plain": [
       "<Figure size 640x480 with 1 Axes>"
      ]
     },
     "metadata": {},
     "output_type": "display_data"
    }
   ],
   "source": [
    "sns.boxplot(data=data[['pre_treatment','post_treatment']], palette=\"Set3\")\n",
    "sns.stripplot(data=data[['pre_treatment','post_treatment']], color='.3', size=4)\n",
    "sns.despine(trim=True)\n",
    "if p > 0.05 :\n",
    "    print(\"Smae distribution\")\n",
    "else : \n",
    "    print(\"nDifferent distribution\")"
   ]
  },
  {
   "cell_type": "code",
   "execution_count": null,
   "id": "b5c66291",
   "metadata": {},
   "outputs": [],
   "source": []
  }
 ],
 "metadata": {
  "kernelspec": {
   "display_name": "AI",
   "language": "python",
   "name": "ai"
  },
  "language_info": {
   "codemirror_mode": {
    "name": "ipython",
    "version": 3
   },
   "file_extension": ".py",
   "mimetype": "text/x-python",
   "name": "python",
   "nbconvert_exporter": "python",
   "pygments_lexer": "ipython3",
   "version": "3.8.12"
  }
 },
 "nbformat": 4,
 "nbformat_minor": 5
}
