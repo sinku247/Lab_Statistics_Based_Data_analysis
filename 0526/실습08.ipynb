{
 "cells": [
  {
   "cell_type": "code",
   "execution_count": 1,
   "id": "d8f14519",
   "metadata": {},
   "outputs": [
    {
     "name": "stdout",
     "output_type": "stream",
     "text": [
      "32.5 0.19622288836173518\n"
     ]
    }
   ],
   "source": [
    "from scipy.stats import mannwhitneyu\n",
    "\n",
    "group1 = [3,2,5,1,4,2,6,7,9,8]\n",
    "group2 = [6,4,7,2,6,3,7,9,10,11]\n",
    "\n",
    "st, p = mannwhitneyu(group1, group2)\n",
    "\n",
    "print(st, p)"
   ]
  },
  {
   "cell_type": "code",
   "execution_count": 4,
   "id": "835b9f59",
   "metadata": {},
   "outputs": [
    {
     "name": "stdout",
     "output_type": "stream",
     "text": [
      "32.5 0.19622288836173518\n",
      "10 10\n",
      "32.5\n",
      "0.014019277113959953\n"
     ]
    }
   ],
   "source": [
    "import numpy as np \n",
    "import pandas as pd\n",
    "from scipy.stats import mannwhitneyu\n",
    "from scipy import stats\n",
    "\n",
    "# 데이터 불러오기 \n",
    "data = pd.read_csv(\"./data/mannwhitneyu_sample_data.csv\")\n",
    "\n",
    "# 두 집단 간의 차이 검정 \n",
    "st, p = mannwhitneyu(data['group1'], data['group2'])\n",
    "\n",
    "print(st, p)\n",
    "\n",
    "# 두 집단의 크기 계산 # len()\n",
    "n1, n2 = len(data['group1']), len(data['group2'])\n",
    "print(n1, n2)\n",
    "\n",
    "if st > n1 * n2 / 2 : \n",
    "    st = n1 * n2 - st\n",
    "    \n",
    "# p-value 계산 \n",
    "p_val = 2 * stats.norm.cdf(-abs(st) / np.sqrt(n1 * n2 * (n1 + n2 +1)/12))\n",
    "\n",
    "print(st)\n",
    "print(p_val)"
   ]
  },
  {
   "cell_type": "code",
   "execution_count": null,
   "id": "0091f783",
   "metadata": {},
   "outputs": [],
   "source": []
  }
 ],
 "metadata": {
  "kernelspec": {
   "display_name": "AI",
   "language": "python",
   "name": "ai"
  },
  "language_info": {
   "codemirror_mode": {
    "name": "ipython",
    "version": 3
   },
   "file_extension": ".py",
   "mimetype": "text/x-python",
   "name": "python",
   "nbconvert_exporter": "python",
   "pygments_lexer": "ipython3",
   "version": "3.8.12"
  }
 },
 "nbformat": 4,
 "nbformat_minor": 5
}
