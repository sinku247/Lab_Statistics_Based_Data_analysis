{
 "cells": [
  {
   "cell_type": "markdown",
   "id": "88f836aa",
   "metadata": {},
   "source": [
    "# 시계열 데이터 전처리 - 결측치가 있는 행 삭제 실습"
   ]
  },
  {
   "cell_type": "code",
   "execution_count": 1,
   "id": "17a7fbc7",
   "metadata": {},
   "outputs": [],
   "source": [
    "import pandas as pd \n",
    "import numpy as np "
   ]
  },
  {
   "cell_type": "code",
   "execution_count": 2,
   "id": "cfa440c4",
   "metadata": {},
   "outputs": [
    {
     "name": "stdout",
     "output_type": "stream",
     "text": [
      "Date     2023-01-21 00:00:00\n",
      "Value                    NaN\n",
      "Name: 20, dtype: object\n"
     ]
    }
   ],
   "source": [
    "# 시계열 데이터 생성\n",
    "dates = pd.date_range(start='2023-01-01', periods=50, freq='D')\n",
    "values = np.random.randn(50)\n",
    "\n",
    "# 결측치 생성 \n",
    "values[20] = np.nan\n",
    "\n",
    "# 데이터 프레임 생성\n",
    "data = pd.DataFrame({\n",
    "    'Date' : dates,\n",
    "    'Value' : values\n",
    "})\n",
    "\n",
    "\n",
    "row = data.iloc[20]\n",
    "print(row)"
   ]
  },
  {
   "cell_type": "markdown",
   "id": "ac2858bc",
   "metadata": {},
   "source": [
    "#### 결측치 개수 확인 체크 "
   ]
  },
  {
   "cell_type": "code",
   "execution_count": 3,
   "id": "b4d7ae0e",
   "metadata": {},
   "outputs": [
    {
     "name": "stdout",
     "output_type": "stream",
     "text": [
      "Date     0\n",
      "Value    1\n",
      "dtype: int64\n"
     ]
    }
   ],
   "source": [
    "print(data.isnull().sum())"
   ]
  },
  {
   "cell_type": "code",
   "execution_count": 4,
   "id": "e00e206e",
   "metadata": {},
   "outputs": [
    {
     "name": "stdout",
     "output_type": "stream",
     "text": [
      "         Date     Value\n",
      "0  2023-01-01  0.450296\n",
      "1  2023-01-02 -0.407658\n",
      "2  2023-01-03 -0.994554\n",
      "3  2023-01-04  0.564184\n",
      "4  2023-01-05 -0.434550\n",
      "5  2023-01-06  0.188946\n",
      "6  2023-01-07  1.598579\n",
      "7  2023-01-08  0.970767\n",
      "8  2023-01-09  0.742697\n",
      "9  2023-01-10 -0.098268\n",
      "10 2023-01-11  0.971286\n",
      "11 2023-01-12  1.009796\n",
      "12 2023-01-13 -0.241195\n",
      "13 2023-01-14  0.171838\n",
      "14 2023-01-15  0.314487\n",
      "15 2023-01-16 -0.435619\n",
      "16 2023-01-17 -1.038949\n",
      "17 2023-01-18 -0.017585\n",
      "18 2023-01-19  0.321967\n",
      "19 2023-01-20  0.523616\n",
      "21 2023-01-22  0.365807\n",
      "22 2023-01-23  0.146990\n",
      "23 2023-01-24  1.926392\n",
      "24 2023-01-25 -0.627230\n",
      "25 2023-01-26  0.333393\n",
      "26 2023-01-27  1.016272\n",
      "27 2023-01-28  1.439283\n",
      "28 2023-01-29 -0.714776\n",
      "29 2023-01-30  2.554036\n",
      "30 2023-01-31 -0.091741\n",
      "31 2023-02-01 -0.050858\n",
      "32 2023-02-02 -0.475405\n",
      "33 2023-02-03  0.033436\n",
      "34 2023-02-04  0.554803\n",
      "35 2023-02-05  0.952989\n",
      "36 2023-02-06 -1.009712\n",
      "37 2023-02-07 -0.093637\n",
      "38 2023-02-08  0.033709\n",
      "39 2023-02-09  2.214842\n",
      "40 2023-02-10 -0.937680\n",
      "41 2023-02-11  0.456919\n",
      "42 2023-02-12 -0.279292\n",
      "43 2023-02-13 -0.975870\n",
      "44 2023-02-14 -1.279380\n",
      "45 2023-02-15 -0.604546\n",
      "46 2023-02-16 -1.418122\n",
      "47 2023-02-17 -0.216315\n",
      "48 2023-02-18  0.737926\n",
      "49 2023-02-19  0.121676\n"
     ]
    }
   ],
   "source": [
    "data_without_missing = data.dropna(axis=0)\n",
    "\n",
    "# 결측치 삭제 여부 확인 체크 \n",
    "print(data_without_missing)"
   ]
  },
  {
   "cell_type": "code",
   "execution_count": null,
   "id": "abafd750",
   "metadata": {},
   "outputs": [],
   "source": []
  }
 ],
 "metadata": {
  "kernelspec": {
   "display_name": "AI",
   "language": "python",
   "name": "ai"
  },
  "language_info": {
   "codemirror_mode": {
    "name": "ipython",
    "version": 3
   },
   "file_extension": ".py",
   "mimetype": "text/x-python",
   "name": "python",
   "nbconvert_exporter": "python",
   "pygments_lexer": "ipython3",
   "version": "3.8.12"
  }
 },
 "nbformat": 4,
 "nbformat_minor": 5
}
