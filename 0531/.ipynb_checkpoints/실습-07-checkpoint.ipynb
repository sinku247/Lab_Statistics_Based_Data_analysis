{
 "cells": [
  {
   "cell_type": "markdown",
   "id": "47095628",
   "metadata": {},
   "source": [
    "# 시계열 데이터를 활용하여 Min-Max 정규화 적용하는 실습"
   ]
  },
  {
   "cell_type": "code",
   "execution_count": 1,
   "id": "57e20aca",
   "metadata": {},
   "outputs": [],
   "source": [
    "import pandas as pd\n",
    "import numpy as np"
   ]
  },
  {
   "cell_type": "code",
   "execution_count": 3,
   "id": "f688d5a8",
   "metadata": {},
   "outputs": [
    {
     "name": "stdout",
     "output_type": "stream",
     "text": [
      "         Date  Value\n",
      "0  2023-01-01     28\n",
      "1  2023-01-02     32\n",
      "2  2023-01-03     93\n",
      "3  2023-01-04     25\n",
      "4  2023-01-05     28\n",
      "..        ...    ...\n",
      "95 2023-04-06     63\n",
      "96 2023-04-07     60\n",
      "97 2023-04-08     36\n",
      "98 2023-04-09     47\n",
      "99 2023-04-10     79\n",
      "\n",
      "[100 rows x 2 columns]\n",
      "3 98\n"
     ]
    }
   ],
   "source": [
    "# 시계열 데이터 \n",
    "dates = pd.date_range(start='2023-01-01', periods=100, freq='D')\n",
    "values = np.random.randint(0, 100, size=100)\n",
    "\n",
    "# 데이터 프레임 \n",
    "data = pd.DataFrame({\n",
    "    'Date' : dates,\n",
    "    'Value' : values\n",
    "})\n",
    "\n",
    "print(data)\n",
    "\n",
    "# Min-Max 정규화 수행 \n",
    "min_val = data['Value'].min()\n",
    "max_val = data['Value'].max()\n",
    "\n",
    "print(min_val, max_val)\n",
    "data['Value_Normalized'] = (data['Value'] - min_val) / (max_val - min_val)\n",
    "# 공식 -> x_new = (x - min) / (max - min) \n",
    "\n",
    "# 정규화 완료된 데이터 확인 \n",
    "print(data[['Date', 'Value_Normalized']])"
   ]
  },
  {
   "cell_type": "code",
   "execution_count": null,
   "id": "2fb09d68",
   "metadata": {},
   "outputs": [],
   "source": []
  }
 ],
 "metadata": {
  "kernelspec": {
   "display_name": "AI",
   "language": "python",
   "name": "ai"
  },
  "language_info": {
   "codemirror_mode": {
    "name": "ipython",
    "version": 3
   },
   "file_extension": ".py",
   "mimetype": "text/x-python",
   "name": "python",
   "nbconvert_exporter": "python",
   "pygments_lexer": "ipython3",
   "version": "3.8.12"
  }
 },
 "nbformat": 4,
 "nbformat_minor": 5
}
