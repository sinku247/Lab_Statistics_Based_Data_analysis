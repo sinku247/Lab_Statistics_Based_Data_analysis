{
 "cells": [
  {
   "cell_type": "code",
   "execution_count": 1,
   "id": "1afb5ca0",
   "metadata": {},
   "outputs": [],
   "source": [
    "import numpy as np \n",
    "import pandas as pd \n",
    "import matplotlib.pyplot as plt\n",
    "from statsmodels.tsa.arima.model import ARIMA"
   ]
  },
  {
   "cell_type": "code",
   "execution_count": 2,
   "id": "344a8c5e",
   "metadata": {},
   "outputs": [
    {
     "name": "stdout",
     "output_type": "stream",
     "text": [
      "       Value\n",
      "0   0.000000\n",
      "1   0.000000\n",
      "2   0.041073\n",
      "3   2.301709\n",
      "4   2.945039\n",
      "..       ...\n",
      "95 -0.210585\n",
      "96  1.069676\n",
      "97  1.248671\n",
      "98  2.509972\n",
      "99  2.440809\n",
      "\n",
      "[100 rows x 1 columns]\n"
     ]
    }
   ],
   "source": [
    "n = 100 \n",
    "ma_params = [0.4, -0.2] # 이동평균 계수 \n",
    "residuals = np.random.normal(0, 1, n) # 전차 생성\n",
    "\n",
    "\n",
    "# MA(2) 모델 생성\n",
    "data = [0 , 0]\n",
    "for i in range(2, n) :\n",
    "    data.append(ma_params[0] * residuals[i - 1] + ma_params[1] + residuals[i-2] + residuals[i])\n",
    "    \n",
    "df = pd.DataFrame({\n",
    "    'Value' : data\n",
    "})\n",
    "\n",
    "print(df)"
   ]
  },
  {
   "cell_type": "code",
   "execution_count": null,
   "id": "d10b920b",
   "metadata": {},
   "outputs": [],
   "source": [
    "model = ARIMA(df['Value'], order=(0,0,2))\n",
    "results = model.fit()\n",
    "\n",
    "print(results.summary())\n",
    "\n",
    "plt.plot(results.resid)\n",
    "plt.xlabel('Time')\n",
    "plt.ylabel('Residuals')\n",
    "plt.show()"
   ]
  }
 ],
 "metadata": {
  "kernelspec": {
   "display_name": "AI",
   "language": "python",
   "name": "ai"
  },
  "language_info": {
   "codemirror_mode": {
    "name": "ipython",
    "version": 3
   },
   "file_extension": ".py",
   "mimetype": "text/x-python",
   "name": "python",
   "nbconvert_exporter": "python",
   "pygments_lexer": "ipython3",
   "version": "3.8.12"
  }
 },
 "nbformat": 4,
 "nbformat_minor": 5
}
