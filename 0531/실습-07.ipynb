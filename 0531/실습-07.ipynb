{
 "cells": [
  {
   "cell_type": "markdown",
   "id": "088ea089",
   "metadata": {},
   "source": [
    "# 시계열 데이터를 활용하여 Min-Max 정규화 적용하는 실습"
   ]
  },
  {
   "cell_type": "code",
   "execution_count": 1,
   "id": "d25a3067",
   "metadata": {},
   "outputs": [],
   "source": [
    "import pandas as pd\n",
    "import numpy as np"
   ]
  },
  {
   "cell_type": "code",
   "execution_count": 4,
   "id": "8f35ffaa",
   "metadata": {},
   "outputs": [
    {
     "name": "stdout",
     "output_type": "stream",
     "text": [
      "         Date  Value\n",
      "0  2023-01-01      6\n",
      "1  2023-01-02     79\n",
      "2  2023-01-03      9\n",
      "3  2023-01-04     24\n",
      "4  2023-01-05     28\n",
      "..        ...    ...\n",
      "95 2023-04-06     88\n",
      "96 2023-04-07     81\n",
      "97 2023-04-08     14\n",
      "98 2023-04-09     38\n",
      "99 2023-04-10     63\n",
      "\n",
      "[100 rows x 2 columns]\n",
      "3 98\n",
      "         Date  Value_Normalized\n",
      "0  2023-01-01          0.031579\n",
      "1  2023-01-02          0.800000\n",
      "2  2023-01-03          0.063158\n",
      "3  2023-01-04          0.221053\n",
      "4  2023-01-05          0.263158\n",
      "..        ...               ...\n",
      "95 2023-04-06          0.894737\n",
      "96 2023-04-07          0.821053\n",
      "97 2023-04-08          0.115789\n",
      "98 2023-04-09          0.368421\n",
      "99 2023-04-10          0.631579\n",
      "\n",
      "[100 rows x 2 columns]\n"
     ]
    }
   ],
   "source": [
    "# 시계열 데이터 \n",
    "dates = pd.date_range(start='2023-01-01', periods=100, freq='D')\n",
    "values = np.random.randint(0, 100, size=100)\n",
    "\n",
    "# 데이터 프레임 \n",
    "data = pd.DataFrame({\n",
    "    'Date' : dates,\n",
    "    'Value' : values\n",
    "})\n",
    "\n",
    "print(data)\n",
    "\n",
    "# Min-Max 정규화 수행 \n",
    "min_val = data['Value'].min()\n",
    "max_val = data['Value'].max()\n",
    "\n",
    "print(min_val, max_val)\n",
    "data['Value_Normalized'] = (data['Value'] - min_val) / (max_val - min_val)\n",
    "# 공식 -> x_new = (x - min) / (max - min) \n",
    "\n",
    "# 정규화 완료된 데이터 확인 \n",
    "print(data[['Date', 'Value_Normalized']])"
   ]
  },
  {
   "cell_type": "code",
   "execution_count": null,
   "id": "3ee058ff",
   "metadata": {},
   "outputs": [],
   "source": []
  }
 ],
 "metadata": {
  "kernelspec": {
   "display_name": "AI",
   "language": "python",
   "name": "ai"
  },
  "language_info": {
   "codemirror_mode": {
    "name": "ipython",
    "version": 3
   },
   "file_extension": ".py",
   "mimetype": "text/x-python",
   "name": "python",
   "nbconvert_exporter": "python",
   "pygments_lexer": "ipython3",
   "version": "3.8.12"
  }
 },
 "nbformat": 4,
 "nbformat_minor": 5
}
