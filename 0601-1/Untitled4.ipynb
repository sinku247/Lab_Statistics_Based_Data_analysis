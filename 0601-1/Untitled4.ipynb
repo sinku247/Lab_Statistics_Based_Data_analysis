{
 "cells": [
  {
   "cell_type": "code",
   "execution_count": 1,
   "id": "45cd3f36",
   "metadata": {},
   "outputs": [],
   "source": [
    "import numpy as np\n",
    "\n",
    "x = np.array([1, 2, 3, 4, 5])\n",
    "y = np.array([2, 4, 6, 8, 10])\n",
    "z = np.array([3, 6, 9, 12, 15])"
   ]
  },
  {
   "cell_type": "code",
   "execution_count": 2,
   "id": "b92b19ca",
   "metadata": {},
   "outputs": [
    {
     "name": "stdout",
     "output_type": "stream",
     "text": [
      "Covariance Matrix:\n",
      "[[ 2.5  5.   7.5]\n",
      " [ 5.  10.  15. ]\n",
      " [ 7.5 15.  22.5]]\n"
     ]
    }
   ],
   "source": [
    "# covariance\n",
    "cov_matrix = np.cov([x, y, z])\n",
    "print(\"Covariance Matrix:\")\n",
    "print(cov_matrix)"
   ]
  },
  {
   "cell_type": "code",
   "execution_count": 3,
   "id": "53ed7d54",
   "metadata": {},
   "outputs": [
    {
     "name": "stdout",
     "output_type": "stream",
     "text": [
      "Correlation Matrix:\n",
      "[[1. 1. 1.]\n",
      " [1. 1. 1.]\n",
      " [1. 1. 1.]]\n"
     ]
    }
   ],
   "source": [
    "# correlation coeficient\n",
    "cor_matrix = np.corrcoef([x, y, z])\n",
    "print(\"Correlation Matrix:\")\n",
    "print(cor_matrix)"
   ]
  },
  {
   "cell_type": "code",
   "execution_count": 4,
   "id": "38ac9c9f",
   "metadata": {},
   "outputs": [
    {
     "name": "stdout",
     "output_type": "stream",
     "text": [
      "Variables with high multicollinearity:\n",
      "Variable 1 and Variable 2\n",
      "Variable 1 and Variable 3\n",
      "Variable 2 and Variable 3\n"
     ]
    }
   ],
   "source": [
    "threshold = 0.7\n",
    "\n",
    "print(\"Variables with high multicollinearity:\")\n",
    "for i in range(cor_matrix.shape[0]):\n",
    "    for j in range(i+1, cor_matrix.shape[1]):\n",
    "        if abs(cor_matrix[i, j]) > threshold:\n",
    "            print(f\"Variable {i+1} and Variable {j+1}\")"
   ]
  },
  {
   "cell_type": "code",
   "execution_count": 5,
   "id": "8364926c",
   "metadata": {},
   "outputs": [],
   "source": [
    "x1 = np.random.normal(0, 1, 100)\n",
    "x2 = np.random.normal(0, 1, 100)\n",
    "x3 = np.random.normal(0, 1, 100)\n",
    "\n",
    "data = np.vstack([x1, x2, x3]).T\n",
    "cor_matrix = np.corrcoef(data, rowvar=False)"
   ]
  },
  {
   "cell_type": "code",
   "execution_count": 7,
   "id": "e41771c4",
   "metadata": {},
   "outputs": [],
   "source": [
    "import seaborn as sns\n",
    "import matplotlib.pyplot as plt"
   ]
  },
  {
   "cell_type": "code",
   "execution_count": 8,
   "id": "276f9982",
   "metadata": {},
   "outputs": [
    {
     "data": {
      "image/png": "[encoded data removed]",
      "text/plain": [
       "<Figure size 576x432 with 2 Axes>"
      ]
     },
     "metadata": {
      "needs_background": "light"
     },
     "output_type": "display_data"
    }
   ],
   "source": [
    "plt.figure(figsize = (8,6))\n",
    "sns.heatmap(cor_matrix, annot=True, cmap='coolwarm')\n",
    "plt.title('Correlation Matrix')\n",
    "plt.show()"
   ]
  },
  {
   "cell_type": "code",
   "execution_count": 9,
   "id": "bf559789",
   "metadata": {},
   "outputs": [
    {
     "name": "stdout",
     "output_type": "stream",
     "text": [
      "[0, 1, 1, 2]\n"
     ]
    }
   ],
   "source": [
    "threshold = 0.1\n",
    "selected_vars = []\n",
    "for i in range(cor_matrix.shape[0]):\n",
    "    for j in range(i+1, cor_matrix.shape[1]):\n",
    "        if abs(cor_matrix[i, j]) > threshold:\n",
    "            selected_vars.extend([i, j])\n",
    "            \n",
    "print(selected_vars)"
   ]
  },
  {
   "cell_type": "code",
   "execution_count": 10,
   "id": "a07f5429",
   "metadata": {},
   "outputs": [
    {
     "data": {
      "image/png": "[encoded data removed]",
      "text/plain": [
       "<Figure size 576x432 with 1 Axes>"
      ]
     },
     "metadata": {
      "needs_background": "light"
     },
     "output_type": "display_data"
    }
   ],
   "source": [
    "if selected_vars:\n",
    "    reduced_data = data[:, list(set(selected_vars))]\n",
    "    \n",
    "    plt.figure(figsize=(8,6))\n",
    "    plt.scatter(reduced_data[:, 0], reduced_data[:, 1])\n",
    "    plt.xlabel('Reduced Variable 1')\n",
    "    plt.ylabel('Reduced Variable 2')\n",
    "    plt.title('Dimensionality Reduced Data')\n",
    "    plt.show()\n",
    "else:\n",
    "    print('empty list')"
   ]
  },
  {
   "cell_type": "code",
   "execution_count": null,
   "id": "ea38217c",
   "metadata": {},
   "outputs": [],
   "source": []
  }
 ],
 "metadata": {
  "kernelspec": {
   "display_name": "Python 3 (ipykernel)",
   "language": "python",
   "name": "python3"
  },
  "language_info": {
   "codemirror_mode": {
    "name": "ipython",
    "version": 3
   },
   "file_extension": ".py",
   "mimetype": "text/x-python",
   "name": "python",
   "nbconvert_exporter": "python",
   "pygments_lexer": "ipython3",
   "version": "3.9.12"
  }
 },
 "nbformat": 4,
 "nbformat_minor": 5
}
