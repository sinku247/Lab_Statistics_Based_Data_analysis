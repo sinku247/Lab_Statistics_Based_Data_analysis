{
 "cells": [
  {
   "cell_type": "code",
   "execution_count": 1,
   "id": "5341a8a0",
   "metadata": {},
   "outputs": [],
   "source": [
    "import seaborn as sns\n",
    "\n",
    "df = sns.load_dataset('titanic')"
   ]
  },
  {
   "cell_type": "code",
   "execution_count": 2,
   "id": "285b6bb3",
   "metadata": {},
   "outputs": [
    {
     "name": "stdout",
     "output_type": "stream",
     "text": [
      "     survived  pclass     sex   age  sibsp  parch     fare embarked   class  \\\n",
      "0           0       3    male  22.0      1      0   7.2500        S   Third   \n",
      "1           1       1  female  38.0      1      0  71.2833        C   First   \n",
      "2           1       3  female  26.0      0      0   7.9250        S   Third   \n",
      "3           1       1  female  35.0      1      0  53.1000        S   First   \n",
      "4           0       3    male  35.0      0      0   8.0500        S   Third   \n",
      "..        ...     ...     ...   ...    ...    ...      ...      ...     ...   \n",
      "886         0       2    male  27.0      0      0  13.0000        S  Second   \n",
      "887         1       1  female  19.0      0      0  30.0000        S   First   \n",
      "888         0       3  female   NaN      1      2  23.4500        S   Third   \n",
      "889         1       1    male  26.0      0      0  30.0000        C   First   \n",
      "890         0       3    male  32.0      0      0   7.7500        Q   Third   \n",
      "\n",
      "       who  adult_male deck  embark_town alive  alone  \n",
      "0      man        True  NaN  Southampton    no  False  \n",
      "1    woman       False    C    Cherbourg   yes  False  \n",
      "2    woman       False  NaN  Southampton   yes   True  \n",
      "3    woman       False    C  Southampton   yes  False  \n",
      "4      man        True  NaN  Southampton    no   True  \n",
      "..     ...         ...  ...          ...   ...    ...  \n",
      "886    man        True  NaN  Southampton    no   True  \n",
      "887  woman       False    B  Southampton   yes   True  \n",
      "888  woman       False  NaN  Southampton    no  False  \n",
      "889    man        True    C    Cherbourg   yes   True  \n",
      "890    man        True  NaN   Queenstown    no   True  \n",
      "\n",
      "[891 rows x 15 columns]\n"
     ]
    }
   ],
   "source": [
    "print(df)"
   ]
  },
  {
   "cell_type": "code",
   "execution_count": 3,
   "id": "73bd203b",
   "metadata": {},
   "outputs": [
    {
     "name": "stderr",
     "output_type": "stream",
     "text": [
      "C:\\Users\\user\\AppData\\Local\\Temp\\ipykernel_11016\\3444373137.py:2: FutureWarning: Dropping of nuisance columns in DataFrame reductions (with 'numeric_only=None') is deprecated; in a future version this will raise TypeError.  Select only valid columns before calling the reduction.\n",
      "  df_nondrop = df.fillna(df.mean())\n"
     ]
    }
   ],
   "source": [
    "# df = df.dropna()\n",
    "df_nondrop = df.fillna(df.mean())"
   ]
  },
  {
   "cell_type": "code",
   "execution_count": 4,
   "id": "f0773f91",
   "metadata": {},
   "outputs": [
    {
     "name": "stdout",
     "output_type": "stream",
     "text": [
      "     survived  pclass     sex        age  sibsp  parch     fare embarked  \\\n",
      "0           0       3    male  22.000000      1      0   7.2500        S   \n",
      "1           1       1  female  38.000000      1      0  71.2833        C   \n",
      "2           1       3  female  26.000000      0      0   7.9250        S   \n",
      "3           1       1  female  35.000000      1      0  53.1000        S   \n",
      "4           0       3    male  35.000000      0      0   8.0500        S   \n",
      "..        ...     ...     ...        ...    ...    ...      ...      ...   \n",
      "886         0       2    male  27.000000      0      0  13.0000        S   \n",
      "887         1       1  female  19.000000      0      0  30.0000        S   \n",
      "888         0       3  female  29.699118      1      2  23.4500        S   \n",
      "889         1       1    male  26.000000      0      0  30.0000        C   \n",
      "890         0       3    male  32.000000      0      0   7.7500        Q   \n",
      "\n",
      "      class    who  adult_male deck  embark_town alive  alone  \n",
      "0     Third    man        True  NaN  Southampton    no  False  \n",
      "1     First  woman       False    C    Cherbourg   yes  False  \n",
      "2     Third  woman       False  NaN  Southampton   yes   True  \n",
      "3     First  woman       False    C  Southampton   yes  False  \n",
      "4     Third    man        True  NaN  Southampton    no   True  \n",
      "..      ...    ...         ...  ...          ...   ...    ...  \n",
      "886  Second    man        True  NaN  Southampton    no   True  \n",
      "887   First  woman       False    B  Southampton   yes   True  \n",
      "888   Third  woman       False  NaN  Southampton    no  False  \n",
      "889   First    man        True    C    Cherbourg   yes   True  \n",
      "890   Third    man        True  NaN   Queenstown    no   True  \n",
      "\n",
      "[891 rows x 15 columns]\n"
     ]
    }
   ],
   "source": [
    "print(df_nondrop)"
   ]
  },
  {
   "cell_type": "code",
   "execution_count": 5,
   "id": "266ac3a3",
   "metadata": {},
   "outputs": [],
   "source": [
    "corr = df.corr()"
   ]
  },
  {
   "cell_type": "code",
   "execution_count": 6,
   "id": "0f910b42",
   "metadata": {},
   "outputs": [
    {
     "name": "stdout",
     "output_type": "stream",
     "text": [
      "            survived    pclass       age     sibsp     parch      fare  \\\n",
      "survived    1.000000 -0.338481 -0.077221 -0.035322  0.081629  0.257307   \n",
      "pclass     -0.338481  1.000000 -0.369226  0.083081  0.018443 -0.549500   \n",
      "age        -0.077221 -0.369226  1.000000 -0.308247 -0.189119  0.096067   \n",
      "sibsp      -0.035322  0.083081 -0.308247  1.000000  0.414838  0.159651   \n",
      "parch       0.081629  0.018443 -0.189119  0.414838  1.000000  0.216225   \n",
      "fare        0.257307 -0.549500  0.096067  0.159651  0.216225  1.000000   \n",
      "adult_male -0.557080  0.094035  0.280328 -0.253586 -0.349943 -0.182024   \n",
      "alone      -0.203367  0.135207  0.198270 -0.584471 -0.583398 -0.271832   \n",
      "\n",
      "            adult_male     alone  \n",
      "survived     -0.557080 -0.203367  \n",
      "pclass        0.094035  0.135207  \n",
      "age           0.280328  0.198270  \n",
      "sibsp        -0.253586 -0.584471  \n",
      "parch        -0.349943 -0.583398  \n",
      "fare         -0.182024 -0.271832  \n",
      "adult_male    1.000000  0.404744  \n",
      "alone         0.404744  1.000000  \n"
     ]
    }
   ],
   "source": [
    "print(corr)"
   ]
  },
  {
   "cell_type": "code",
   "execution_count": null,
   "id": "1886f846",
   "metadata": {},
   "outputs": [],
   "source": []
  }
 ],
 "metadata": {
  "kernelspec": {
   "display_name": "Python 3 (ipykernel)",
   "language": "python",
   "name": "python3"
  },
  "language_info": {
   "codemirror_mode": {
    "name": "ipython",
    "version": 3
   },
   "file_extension": ".py",
   "mimetype": "text/x-python",
   "name": "python",
   "nbconvert_exporter": "python",
   "pygments_lexer": "ipython3",
   "version": "3.9.12"
  }
 },
 "nbformat": 4,
 "nbformat_minor": 5
}
