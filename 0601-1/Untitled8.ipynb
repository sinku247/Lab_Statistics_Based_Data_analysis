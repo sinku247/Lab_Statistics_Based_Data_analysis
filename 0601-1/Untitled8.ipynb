{
 "cells": [
  {
   "cell_type": "code",
   "execution_count": 2,
   "id": "a0137ea0",
   "metadata": {},
   "outputs": [],
   "source": [
    "import numpy as np\n",
    "import pandas as pd\n",
    "\n",
    "np.random.seed(42)\n",
    "math_scores = np.random.normal(loc=70, scale=10, size=(300,))\n",
    "english_scores = np.random.normal(loc=80, scale=8, size=(300,))\n",
    "korean_scores = np.random.normal(loc=75, scale=12, size=(300,))"
   ]
  },
  {
   "cell_type": "code",
   "execution_count": 3,
   "id": "fcca8a35",
   "metadata": {},
   "outputs": [],
   "source": [
    "grades = np.repeat([1, 2, 3], 100)"
   ]
  },
  {
   "cell_type": "code",
   "execution_count": 4,
   "id": "56b13b5a",
   "metadata": {},
   "outputs": [],
   "source": [
    "df = pd.DataFrame({\n",
    "    'Grade': grades,\n",
    "    'Math': math_scores,\n",
    "    'English': english_scores,\n",
    "    'Korean': korean_scores\n",
    "})"
   ]
  },
  {
   "cell_type": "code",
   "execution_count": 5,
   "id": "f648bcd6",
   "metadata": {},
   "outputs": [],
   "source": [
    "df.to_csv('./data/student_score.csv', index=False)"
   ]
  },
  {
   "cell_type": "code",
   "execution_count": 6,
   "id": "b59a5401",
   "metadata": {},
   "outputs": [],
   "source": [
    "df = pd.read_csv('./data/student_score.csv')"
   ]
  },
  {
   "cell_type": "code",
   "execution_count": 7,
   "id": "80d64db9",
   "metadata": {},
   "outputs": [
    {
     "name": "stdout",
     "output_type": "stream",
     "text": [
      "     Grade       Math    English     Korean\n",
      "0        1  74.967142  73.368040  84.083863\n",
      "1        1  68.617357  75.518552  63.934016\n",
      "2        1  76.476885  85.978349  85.435271\n",
      "3        1  85.230299  84.882962  91.267654\n",
      "4        1  67.658466  79.832787  79.961219\n",
      "..     ...        ...        ...        ...\n",
      "295      3  63.070904  75.919869  82.784519\n",
      "296      3  78.995999  77.841001  72.994583\n",
      "297      3  73.072995  72.169890  76.760564\n",
      "298      3  78.128621  76.445654  89.478108\n",
      "299      3  76.296288  83.018404  65.196772\n",
      "\n",
      "[300 rows x 4 columns]\n"
     ]
    }
   ],
   "source": [
    "print(df)"
   ]
  },
  {
   "cell_type": "code",
   "execution_count": 8,
   "id": "19731fdf",
   "metadata": {},
   "outputs": [],
   "source": [
    "import matplotlib.pyplot as plt"
   ]
  },
  {
   "cell_type": "code",
   "execution_count": 9,
   "id": "dc07823f",
   "metadata": {},
   "outputs": [
    {
     "data": {
      "image/png": "[encoded data removed]",
      "text/plain": [
       "<Figure size 432x288 with 1 Axes>"
      ]
     },
     "metadata": {
      "needs_background": "light"
     },
     "output_type": "display_data"
    }
   ],
   "source": [
    "plt.hist(df['Math'], bins=10)\n",
    "plt.show()"
   ]
  },
  {
   "cell_type": "code",
   "execution_count": 10,
   "id": "7707203b",
   "metadata": {},
   "outputs": [],
   "source": [
    "corr = df.corr()\n",
    "import seaborn as sns"
   ]
  },
  {
   "cell_type": "code",
   "execution_count": 11,
   "id": "6825cb62",
   "metadata": {},
   "outputs": [
    {
     "data": {
      "image/png": "[encoded data removed]",
      "text/plain": [
       "<Figure size 432x288 with 2 Axes>"
      ]
     },
     "metadata": {
      "needs_background": "light"
     },
     "output_type": "display_data"
    }
   ],
   "source": [
    "sns.heatmap(corr, annot=True)\n",
    "plt.show()"
   ]
  },
  {
   "cell_type": "code",
   "execution_count": null,
   "id": "dd0a413a",
   "metadata": {},
   "outputs": [],
   "source": []
  }
 ],
 "metadata": {
  "kernelspec": {
   "display_name": "Python 3 (ipykernel)",
   "language": "python",
   "name": "python3"
  },
  "language_info": {
   "codemirror_mode": {
    "name": "ipython",
    "version": 3
   },
   "file_extension": ".py",
   "mimetype": "text/x-python",
   "name": "python",
   "nbconvert_exporter": "python",
   "pygments_lexer": "ipython3",
   "version": "3.9.12"
  }
 },
 "nbformat": 4,
 "nbformat_minor": 5
}
