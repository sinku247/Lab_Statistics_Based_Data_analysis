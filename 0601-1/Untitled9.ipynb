{
 "cells": [
  {
   "cell_type": "code",
   "execution_count": 1,
   "id": "e300a034",
   "metadata": {},
   "outputs": [],
   "source": [
    "import numpy as np\n",
    "from sklearn.decomposition import PCA\n",
    "import matplotlib.pyplot as plt"
   ]
  },
  {
   "cell_type": "code",
   "execution_count": 2,
   "id": "5b0f5286",
   "metadata": {},
   "outputs": [],
   "source": [
    "x = np.random.rand(100, 3)"
   ]
  },
  {
   "cell_type": "code",
   "execution_count": 3,
   "id": "3f5a80e3",
   "metadata": {},
   "outputs": [
    {
     "data": {
      "text/plain": [
       "PCA(n_components=2)"
      ]
     },
     "execution_count": 3,
     "metadata": {},
     "output_type": "execute_result"
    }
   ],
   "source": [
    "pca = PCA(n_components = 2)\n",
    "pca.fit(x)"
   ]
  },
  {
   "cell_type": "code",
   "execution_count": 4,
   "id": "2bd47050",
   "metadata": {},
   "outputs": [],
   "source": [
    "transformed_data = pca.transform(x)"
   ]
  },
  {
   "cell_type": "code",
   "execution_count": 5,
   "id": "fc4cdb92",
   "metadata": {},
   "outputs": [
    {
     "name": "stdout",
     "output_type": "stream",
     "text": [
      "주성분의 설명력 : [0.37926172 0.32401634]\n"
     ]
    }
   ],
   "source": [
    "explained_var_ratio = pca.explained_variance_ratio_\n",
    "print(f\"주성분의 설명력 : {explained_var_ratio}\")"
   ]
  },
  {
   "cell_type": "code",
   "execution_count": 6,
   "id": "6d51de89",
   "metadata": {},
   "outputs": [
    {
     "name": "stdout",
     "output_type": "stream",
     "text": [
      "주성분의 가중치:\n",
      " [[-0.22882552  0.93307362  0.27751126]\n",
      " [-0.82409909 -0.0339332  -0.56542836]]\n"
     ]
    }
   ],
   "source": [
    "components = pca.components_\n",
    "print(f\"주성분의 가중치:\\n {components}\")"
   ]
  },
  {
   "cell_type": "code",
   "execution_count": 7,
   "id": "d181eafe",
   "metadata": {},
   "outputs": [
    {
     "data": {
      "image/png": "[encoded data removed]",
      "text/plain": [
       "<Figure size 432x288 with 1 Axes>"
      ]
     },
     "metadata": {
      "needs_background": "light"
     },
     "output_type": "display_data"
    }
   ],
   "source": [
    "plt.scatter(transformed_data[:, 0], transformed_data[:,1])\n",
    "plt.title('PCA result')\n",
    "plt.show()"
   ]
  },
  {
   "cell_type": "code",
   "execution_count": null,
   "id": "37773a3c",
   "metadata": {},
   "outputs": [],
   "source": []
  }
 ],
 "metadata": {
  "kernelspec": {
   "display_name": "Python 3 (ipykernel)",
   "language": "python",
   "name": "python3"
  },
  "language_info": {
   "codemirror_mode": {
    "name": "ipython",
    "version": 3
   },
   "file_extension": ".py",
   "mimetype": "text/x-python",
   "name": "python",
   "nbconvert_exporter": "python",
   "pygments_lexer": "ipython3",
   "version": "3.9.12"
  }
 },
 "nbformat": 4,
 "nbformat_minor": 5
}
