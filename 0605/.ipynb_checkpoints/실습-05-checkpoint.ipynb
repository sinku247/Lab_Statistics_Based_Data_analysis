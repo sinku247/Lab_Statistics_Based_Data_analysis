{
 "cells": [
  {
   "cell_type": "markdown",
   "id": "fc0dc05e",
   "metadata": {},
   "source": [
    "# 순서가 없는 범주형 데이터 처리 "
   ]
  },
  {
   "cell_type": "code",
   "execution_count": 1,
   "id": "c4ebd9f9",
   "metadata": {},
   "outputs": [],
   "source": [
    "import numpy as np \n",
    "from sklearn.preprocessing import LabelBinarizer, MultiLabelBinarizer"
   ]
  },
  {
   "cell_type": "code",
   "execution_count": 2,
   "id": "b0e3041b",
   "metadata": {},
   "outputs": [
    {
     "name": "stdout",
     "output_type": "stream",
     "text": [
      "[['가나다라']\n",
      " ['가나다라']\n",
      " ['아바하자']\n",
      " ['카나다사']]\n",
      "['가나다라' '아바하자' '카나다사']\n"
     ]
    }
   ],
   "source": [
    "feature = np.array((['가나다라'],\n",
    "                    ['가나다라'],\n",
    "                    ['아바하자'],\n",
    "                    ['카나다사']))\n",
    "\n",
    "print(feature)\n",
    "\n",
    "# 원-핫 인코더 생성\n",
    "one_hot = LabelBinarizer()\n",
    "one_hot.fit_transform(feature) # 특성을 원-핫 인코딩 변환 \n",
    "# 특성 클래스 확인 \n",
    "print(one_hot.classes_)"
   ]
  },
  {
   "cell_type": "markdown",
   "id": "923b9261",
   "metadata": {},
   "source": [
    "# 다중 클래스 특성에 대한 처리 "
   ]
  },
  {
   "cell_type": "code",
   "execution_count": 3,
   "id": "5b91b027",
   "metadata": {},
   "outputs": [
    {
     "name": "stdout",
     "output_type": "stream",
     "text": [
      "['가나다라마' '아마자나가' '아자바하나' '아카나다하' '자다가나라' '자다나타하']\n"
     ]
    }
   ],
   "source": [
    "multiclass_feature = [('가나다라마','아자바하나'),\n",
    "                     ('자다가나라','자다나타하'),\n",
    "                     ('가나다라마','아자바하나'),\n",
    "                     ('아마자나가','아카나다하'),\n",
    "                     ('가나다라마','아자바하나'),\n",
    "                     ]\n",
    "one_hot_mult = MultiLabelBinarizer()\n",
    "one_hot_mult.fit_transform(multiclass_feature)\n",
    "print(one_hot_mult.classes_)"
   ]
  },
  {
   "cell_type": "markdown",
   "id": "7bdaae4f",
   "metadata": {},
   "source": [
    "# 문자열 타깃 데이터 원-핫 인코딩"
   ]
  },
  {
   "cell_type": "code",
   "execution_count": 4,
   "id": "7eeb4f7a",
   "metadata": {},
   "outputs": [
    {
     "name": "stdout",
     "output_type": "stream",
     "text": [
      "[array(['안녕', '저녁', '점심'], dtype=object), array([1, 2, 3], dtype=object)]\n"
     ]
    }
   ],
   "source": [
    "from sklearn.preprocessing import OneHotEncoder\n",
    "\n",
    "str_feature = ([['안녕', 1],\n",
    "                ['저녁', 2],\n",
    "                ['안녕', 1],\n",
    "                ['점심', 3],\n",
    "               ])\n",
    "\n",
    "one_hot_encoder = OneHotEncoder(sparse=False)\n",
    "\n",
    "# One hot encoder -> 입력 특성 배열을 모두 범주형\n",
    "one_hot_encoder.fit_transform(str_feature)\n",
    "print(one_hot_encoder.categories_)"
   ]
  },
  {
   "cell_type": "markdown",
   "id": "eba4a5af",
   "metadata": {},
   "source": [
    "# 순서가 있는 범주형 특성 인코딩 \n",
    "\n",
    "- 순서가 있는 클래스는 순서 개념을 가진 수치값으로 변환 \n",
    "- 딕셔너리 사용해서 -> 특성 "
   ]
  },
  {
   "cell_type": "code",
   "execution_count": 5,
   "id": "8187b93a",
   "metadata": {},
   "outputs": [],
   "source": [
    "import pandas as pd "
   ]
  },
  {
   "cell_type": "code",
   "execution_count": 6,
   "id": "26d225aa",
   "metadata": {},
   "outputs": [
    {
     "name": "stdout",
     "output_type": "stream",
     "text": [
      "    Score\n",
      "0     Low\n",
      "1     Low\n",
      "2  Medium\n",
      "3  Medium\n",
      "4    High\n"
     ]
    }
   ],
   "source": [
    "# 특성 데이터 생성\n",
    "dataframe = pd.DataFrame({\n",
    "    'Score' : [\"Low\", \"Low\", \"Medium\", \"Medium\", \"High\"]\n",
    "})\n",
    "\n",
    "print(dataframe)"
   ]
  },
  {
   "cell_type": "code",
   "execution_count": 7,
   "id": "d158d87c",
   "metadata": {},
   "outputs": [
    {
     "name": "stdout",
     "output_type": "stream",
     "text": [
      "{'Low': 1, 'Medium': 2, 'High': 3}\n"
     ]
    }
   ],
   "source": [
    "# 매핑 딕셔너리 생성\n",
    "scale_mapper = {\n",
    "    \"Low\" : 1,\n",
    "    \"Medium\" : 2,\n",
    "    \"High\" : 3\n",
    "}\n",
    "\n",
    "print(scale_mapper)"
   ]
  },
  {
   "cell_type": "code",
   "execution_count": 8,
   "id": "313b4767",
   "metadata": {},
   "outputs": [
    {
     "name": "stdout",
     "output_type": "stream",
     "text": [
      "0    1\n",
      "1    1\n",
      "2    2\n",
      "3    2\n",
      "4    3\n",
      "Name: Score, dtype: int64\n"
     ]
    }
   ],
   "source": [
    "data = dataframe[\"Score\"].replace(scale_mapper)\n",
    "print(data)"
   ]
  },
  {
   "cell_type": "markdown",
   "id": "5f1c6ca5",
   "metadata": {},
   "source": [
    "# 1-2 순서가 있는 범주형 특성 인코딩 "
   ]
  },
  {
   "cell_type": "code",
   "execution_count": 9,
   "id": "9ba66041",
   "metadata": {},
   "outputs": [
    {
     "name": "stdout",
     "output_type": "stream",
     "text": [
      "[array(['High', 'Low', 'Medium'], dtype='<U21'), array(['10', '3', '40'], dtype='<U21')]\n"
     ]
    }
   ],
   "source": [
    "from sklearn.preprocessing import OrdinalEncoder\n",
    "\n",
    "feature_array = np.array((['Low', 10],\n",
    "                    ['High', 40],\n",
    "                    ['Medium',3],))\n",
    "\n",
    "ordinal_encoder = OrdinalEncoder() \n",
    "ordinal_encoder.fit_transform(feature_array)\n",
    "print(ordinal_encoder.categories_)"
   ]
  },
  {
   "cell_type": "markdown",
   "id": "9c1c0265",
   "metadata": {},
   "source": []
  },
  {
   "cell_type": "markdown",
   "id": "cf846400",
   "metadata": {},
   "source": [
    "# 1-3 순서가 있는 범주형 특성 인코딩\n",
    " - 특성 딕셔너리 인코딩"
   ]
  },
  {
   "cell_type": "code",
   "execution_count": 10,
   "id": "866b8bbc",
   "metadata": {},
   "outputs": [],
   "source": [
    "from sklearn.feature_extraction import DictVectorizer"
   ]
  },
  {
   "cell_type": "code",
   "execution_count": 11,
   "id": "35b7b1f3",
   "metadata": {},
   "outputs": [
    {
     "name": "stdout",
     "output_type": "stream",
     "text": [
      "[[4. 2. 0.]\n",
      " [3. 4. 0.]\n",
      " [0. 1. 2.]\n",
      " [0. 1. 2.]]\n",
      "['Blue', 'Red', 'Yellow']\n",
      "   Blue  Red  Yellow\n",
      "0   4.0  2.0     0.0\n",
      "1   3.0  4.0     0.0\n",
      "2   0.0  1.0     2.0\n",
      "3   0.0  1.0     2.0\n"
     ]
    },
    {
     "name": "stderr",
     "output_type": "stream",
     "text": [
      "/opt/homebrew/Caskroom/miniforge/base/envs/AI/lib/python3.8/site-packages/sklearn/utils/deprecation.py:87: FutureWarning: Function get_feature_names is deprecated; get_feature_names is deprecated in 1.0 and will be removed in 1.2. Please use get_feature_names_out instead.\n",
      "  warnings.warn(msg, category=FutureWarning)\n"
     ]
    }
   ],
   "source": [
    "# 딕셔너리 생성 \n",
    "data_dict =[{\"Red\" : 2 , \"Blue\" : 4},\n",
    "            {\"Red\" : 4 , \"Blue\" : 3},\n",
    "            {\"Red\" : 1 , \"Yellow\" : 2 },\n",
    "            {\"Red\" : 1 , \"Yellow\" : 2}]\n",
    "\n",
    "\n",
    "dictVectorizer = DictVectorizer(sparse=False)\n",
    "\n",
    "feature_dict = dictVectorizer.fit_transform(data_dict)\n",
    "print(feature_dict)\n",
    "\n",
    "feature_dict_name = dictVectorizer.get_feature_names()\n",
    "print(feature_dict_name)\n",
    "\n",
    "dict_data = pd.DataFrame(feature_dict,  columns=feature_dict_name)\n",
    "print(dict_data)"
   ]
  },
  {
   "cell_type": "markdown",
   "id": "d449fb50",
   "metadata": {},
   "source": [
    "# 범주형 데이터 - 누락된 클래스 값 대처하기 01"
   ]
  },
  {
   "cell_type": "code",
   "execution_count": 12,
   "id": "aa45a1d4",
   "metadata": {},
   "outputs": [],
   "source": [
    "from sklearn.neighbors import KNeighborsClassifier"
   ]
  },
  {
   "cell_type": "code",
   "execution_count": 13,
   "id": "faede155",
   "metadata": {},
   "outputs": [
    {
     "name": "stdout",
     "output_type": "stream",
     "text": [
      "[[ 2.1   1.48]\n",
      " [ 1.18  1.33]\n",
      " [ 1.22  1.27]\n",
      " [-0.2  -1.15]]\n",
      "[0. 1. 0. 1.]\n"
     ]
    }
   ],
   "source": [
    "x = np.array([[0, 2.10, 1.48],\n",
    "             [1,1.18,1.33],\n",
    "             [0,1.22,1.27],\n",
    "             [1, -0.20, -1.15]])\n",
    "\n",
    "x_with_nan = np.array([[np.nan, 0.87, 1.33], [np.nan, -0.67, -0.22]])\n",
    "clf = KNeighborsClassifier(3, weights='distance')\n",
    "\n",
    "print(x[:,1:])\n",
    "print(x[:,0])"
   ]
  },
  {
   "cell_type": "code",
   "execution_count": 14,
   "id": "0b717b5f",
   "metadata": {},
   "outputs": [
    {
     "ename": "AttributeError",
     "evalue": "'numpy.ndarray' object has no attribute 'reshpe'",
     "output_type": "error",
     "traceback": [
      "\u001b[0;31m---------------------------------------------------------------------------\u001b[0m",
      "\u001b[0;31mAttributeError\u001b[0m                            Traceback (most recent call last)",
      "Input \u001b[0;32mIn [14]\u001b[0m, in \u001b[0;36m<cell line: 4>\u001b[0;34m()\u001b[0m\n\u001b[1;32m      1\u001b[0m train_model \u001b[38;5;241m=\u001b[39m clf\u001b[38;5;241m.\u001b[39mfit(x[:,\u001b[38;5;241m1\u001b[39m:], x[:,\u001b[38;5;241m0\u001b[39m])\n\u001b[1;32m      2\u001b[0m imputer_values \u001b[38;5;241m=\u001b[39m train_model\u001b[38;5;241m.\u001b[39mpredict(x_with_nan[:,\u001b[38;5;241m1\u001b[39m:]) \u001b[38;5;66;03m# 누락된 값의 클래스 예측 \u001b[39;00m\n\u001b[0;32m----> 4\u001b[0m x_with_imputer \u001b[38;5;241m=\u001b[39m np\u001b[38;5;241m.\u001b[39mhstack((\u001b[43mimputer_values\u001b[49m\u001b[38;5;241;43m.\u001b[39;49m\u001b[43mreshpe\u001b[49m(\u001b[38;5;241m-\u001b[39m\u001b[38;5;241m1\u001b[39m,\u001b[38;5;241m1\u001b[39m), x_with_nan[:,\u001b[38;5;241m1\u001b[39m:]))\n\u001b[1;32m      5\u001b[0m data \u001b[38;5;241m=\u001b[39m np\u001b[38;5;241m.\u001b[39mvstack((x_with_imputer, x)) \u001b[38;5;66;03m# 두 특성 행렬을 연결 \u001b[39;00m\n\u001b[1;32m      6\u001b[0m \u001b[38;5;28mprint\u001b[39m(data)\n",
      "\u001b[0;31mAttributeError\u001b[0m: 'numpy.ndarray' object has no attribute 'reshpe'"
     ]
    }
   ],
   "source": [
    "train_model = clf.fit(x[:,1:], x[:,0])\n",
    "imputer_values = train_model.predict(x_with_nan[:,1:]) # 누락된 값의 클래스 예측 \n",
    "\n",
    "x_with_imputer = np.hstack((imputer_values.reshape(-1,1), x_with_nan[:,1:]))\n",
    "data = np.vstack((x_with_imputer, x)) # 두 특성 행렬을 연결 \n",
    "print(data)"
   ]
  },
  {
   "cell_type": "code",
   "execution_count": null,
   "id": "830eef55",
   "metadata": {},
   "outputs": [],
   "source": []
  }
 ],
 "metadata": {
  "kernelspec": {
   "display_name": "AI",
   "language": "python",
   "name": "ai"
  },
  "language_info": {
   "codemirror_mode": {
    "name": "ipython",
    "version": 3
   },
   "file_extension": ".py",
   "mimetype": "text/x-python",
   "name": "python",
   "nbconvert_exporter": "python",
   "pygments_lexer": "ipython3",
   "version": "3.8.12"
  }
 },
 "nbformat": 4,
 "nbformat_minor": 5
}
