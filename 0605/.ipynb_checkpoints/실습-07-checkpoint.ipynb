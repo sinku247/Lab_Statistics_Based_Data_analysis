{
 "cells": [
  {
   "cell_type": "markdown",
   "id": "e835ee5b",
   "metadata": {},
   "source": [
    "# 문자열을 날짜로 변환 "
   ]
  },
  {
   "cell_type": "code",
   "execution_count": 1,
   "id": "aa2a3cc6",
   "metadata": {},
   "outputs": [],
   "source": [
    "import numpy as np\n",
    "import pandas as pd"
   ]
  },
  {
   "cell_type": "code",
   "execution_count": 2,
   "id": "5517db14",
   "metadata": {},
   "outputs": [],
   "source": [
    "date_string = np.array(['03-04-2021 11:20 PM',\n",
    "                        '05-04-2023 09:20 PM',\n",
    "                        '07-04-2023 02:20 AM'\n",
    "                       ])"
   ]
  },
  {
   "cell_type": "markdown",
   "id": "301bd7bd",
   "metadata": {},
   "source": [
    "##### Time Stamp 객체로 변경 "
   ]
  },
  {
   "cell_type": "code",
   "execution_count": 3,
   "id": "9150e3de",
   "metadata": {},
   "outputs": [
    {
     "name": "stdout",
     "output_type": "stream",
     "text": [
      "2021-04-03 23:20:00\n",
      "2023-04-05 21:20:00\n",
      "2023-04-07 02:20:00\n"
     ]
    }
   ],
   "source": [
    "for data in date_string : \n",
    "    temp = pd.to_datetime(data, format= '%d-%m-%Y %I:%M %p')\n",
    "\n",
    "\n",
    "# errors 매개변수 - 오류처리     \n",
    "for data in date_string : \n",
    "    temp_value = pd.to_datetime(data, format= '%d-%m-%Y %I:%M %p', errors='ignore')\n",
    "    print(temp_value)"
   ]
  },
  {
   "cell_type": "markdown",
   "id": "26aceb1a",
   "metadata": {},
   "source": [
    "# 시간대 데이터 처리 "
   ]
  },
  {
   "cell_type": "code",
   "execution_count": 4,
   "id": "6c716e50",
   "metadata": {},
   "outputs": [
    {
     "name": "stdout",
     "output_type": "stream",
     "text": [
      "2023-04-20 06:00:00\n"
     ]
    }
   ],
   "source": [
    "pd.Timestamp(\"2023-01-01 06:00:00\", tz='Europe/London')\n",
    "data_temp = pd.Timestamp(\"2023-04-20 06:00:00\")\n",
    "print(data_temp)"
   ]
  },
  {
   "cell_type": "code",
   "execution_count": 5,
   "id": "497b909e",
   "metadata": {},
   "outputs": [
    {
     "name": "stdout",
     "output_type": "stream",
     "text": [
      "2023-04-20 06:00:00+01:00\n"
     ]
    }
   ],
   "source": [
    "# 시간대를 지정\n",
    "date_in_london = data_temp.tz_localize('Europe/London')\n",
    "print(date_in_london)"
   ]
  },
  {
   "cell_type": "code",
   "execution_count": 6,
   "id": "14d75570",
   "metadata": {},
   "outputs": [
    {
     "name": "stdout",
     "output_type": "stream",
     "text": [
      "0   2023-02-28 00:00:00+00:00\n",
      "1   2023-03-31 00:00:00+00:00\n",
      "2   2023-04-30 00:00:00+00:00\n",
      "dtype: datetime64[ns, Africa/Abidjan]\n"
     ]
    }
   ],
   "source": [
    "# 시간대를 변환\n",
    "date_in_london.tz_convert(\"Africa/Abidjan\")\n",
    "\n",
    "# 세 개의 날짜를 만들기 \n",
    "dates_temp = pd.Series(pd.date_range('2/2/2023', periods=3, freq='M'))\n",
    "temp = dates_temp.dt.tz_localize(\"Africa/Abidjan\")\n",
    "print(temp)"
   ]
  },
  {
   "cell_type": "markdown",
   "id": "f421b1ad",
   "metadata": {},
   "source": [
    "# 시간대 데이터 처리 - 01"
   ]
  },
  {
   "cell_type": "code",
   "execution_count": 7,
   "id": "5752a0c8",
   "metadata": {},
   "outputs": [
    {
     "data": {
      "text/plain": [
       "['America/Maceio', 'America/Managua']"
      ]
     },
     "execution_count": 7,
     "metadata": {},
     "output_type": "execute_result"
    }
   ],
   "source": [
    "import pytz \n",
    "from pytz import all_timezones\n",
    "all_timezones[150:152]"
   ]
  },
  {
   "cell_type": "code",
   "execution_count": 8,
   "id": "ff2a5803",
   "metadata": {},
   "outputs": [
    {
     "data": {
      "text/plain": [
       "0   2023-02-28 00:00:00+09:00\n",
       "1   2023-03-31 00:00:00+09:00\n",
       "2   2023-04-30 00:00:00+09:00\n",
       "dtype: datetime64[ns, tzfile('/usr/share/zoneinfo/Asia/Seoul')]"
      ]
     },
     "execution_count": 8,
     "metadata": {},
     "output_type": "execute_result"
    }
   ],
   "source": [
    "dates_temp.dt.tz_localize(\"dateutil/Asia/Seoul\")"
   ]
  },
  {
   "cell_type": "code",
   "execution_count": 9,
   "id": "af00e43f",
   "metadata": {},
   "outputs": [
    {
     "name": "stdout",
     "output_type": "stream",
     "text": [
      "0   2023-02-28 00:00:00+09:00\n",
      "1   2023-03-31 00:00:00+09:00\n",
      "2   2023-04-30 00:00:00+09:00\n",
      "dtype: datetime64[ns, Asia/Seoul]\n"
     ]
    }
   ],
   "source": [
    "tz_temp = pytz.timezone('Asia/Seoul')\n",
    "temp_01 = dates_temp.dt.tz_localize(tz_temp)\n",
    "print(temp_01)"
   ]
  },
  {
   "cell_type": "markdown",
   "id": "d2452c38",
   "metadata": {},
   "source": [
    "# 날짜와 시간 선택하기 "
   ]
  },
  {
   "cell_type": "code",
   "execution_count": 10,
   "id": "e997ce72",
   "metadata": {},
   "outputs": [
    {
     "name": "stdout",
     "output_type": "stream",
     "text": [
      "Empty DataFrame\n",
      "Columns: []\n",
      "Index: []\n",
      "                   date\n",
      "0   2023-01-01 00:00:00\n",
      "1   2023-01-01 01:00:00\n",
      "2   2023-01-01 02:00:00\n",
      "3   2023-01-01 03:00:00\n",
      "4   2023-01-01 04:00:00\n",
      "..                  ...\n",
      "995 2023-02-11 11:00:00\n",
      "996 2023-02-11 12:00:00\n",
      "997 2023-02-11 13:00:00\n",
      "998 2023-02-11 14:00:00\n",
      "999 2023-02-11 15:00:00\n",
      "\n",
      "[1000 rows x 1 columns]\n"
     ]
    }
   ],
   "source": [
    "dateframe = pd.DataFrame()\n",
    "print(dateframe)\n",
    "dateframe['date'] = pd.date_range('1/1/2023', periods=1000, freq='H')\n",
    "print(dateframe)"
   ]
  },
  {
   "cell_type": "code",
   "execution_count": 11,
   "id": "1b3c63e1",
   "metadata": {},
   "outputs": [
    {
     "name": "stdout",
     "output_type": "stream",
     "text": [
      "                                   date\n",
      "date                                   \n",
      "2023-01-01 00:00:00 2023-01-01 00:00:00\n",
      "2023-01-01 01:00:00 2023-01-01 01:00:00\n",
      "2023-01-01 02:00:00 2023-01-01 02:00:00\n",
      "2023-01-01 03:00:00 2023-01-01 03:00:00\n",
      "2023-01-01 04:00:00 2023-01-01 04:00:00\n",
      "...                                 ...\n",
      "2023-02-11 11:00:00 2023-02-11 11:00:00\n",
      "2023-02-11 12:00:00 2023-02-11 12:00:00\n",
      "2023-02-11 13:00:00 2023-02-11 13:00:00\n",
      "2023-02-11 14:00:00 2023-02-11 14:00:00\n",
      "2023-02-11 15:00:00 2023-02-11 15:00:00\n",
      "\n",
      "[1000 rows x 1 columns]\n"
     ]
    },
    {
     "ename": "KeyError",
     "evalue": "'2023-1-1 01:00:00 : 2023-1-1 04:00:00'",
     "output_type": "error",
     "traceback": [
      "\u001b[0;31m---------------------------------------------------------------------------\u001b[0m",
      "\u001b[0;31mValueError\u001b[0m                                Traceback (most recent call last)",
      "File \u001b[0;32mpandas/_libs/tslibs/parsing.pyx:362\u001b[0m, in \u001b[0;36mpandas._libs.tslibs.parsing.parse_datetime_string_with_reso\u001b[0;34m()\u001b[0m\n",
      "File \u001b[0;32mpandas/_libs/tslibs/parsing.pyx:570\u001b[0m, in \u001b[0;36mpandas._libs.tslibs.parsing.dateutil_parse\u001b[0;34m()\u001b[0m\n",
      "\u001b[0;31mValueError\u001b[0m: Unknown datetime string format, unable to parse: 2023-1-1 01:00:00 : 2023-1-1 04:00:00",
      "\nDuring handling of the above exception, another exception occurred:\n",
      "\u001b[0;31mDateParseError\u001b[0m                            Traceback (most recent call last)",
      "File \u001b[0;32m/opt/homebrew/Caskroom/miniforge/base/envs/AI/lib/python3.8/site-packages/pandas/core/indexes/datetimes.py:644\u001b[0m, in \u001b[0;36mDatetimeIndex.get_loc\u001b[0;34m(self, key, method, tolerance)\u001b[0m\n\u001b[1;32m    643\u001b[0m \u001b[38;5;28;01mtry\u001b[39;00m:\n\u001b[0;32m--> 644\u001b[0m     parsed, reso \u001b[38;5;241m=\u001b[39m \u001b[38;5;28;43mself\u001b[39;49m\u001b[38;5;241;43m.\u001b[39;49m\u001b[43m_parse_with_reso\u001b[49m\u001b[43m(\u001b[49m\u001b[43mkey\u001b[49m\u001b[43m)\u001b[49m\n\u001b[1;32m    645\u001b[0m \u001b[38;5;28;01mexcept\u001b[39;00m \u001b[38;5;167;01mValueError\u001b[39;00m \u001b[38;5;28;01mas\u001b[39;00m err:\n",
      "File \u001b[0;32m/opt/homebrew/Caskroom/miniforge/base/envs/AI/lib/python3.8/site-packages/pandas/core/indexes/datetimelike.py:231\u001b[0m, in \u001b[0;36mDatetimeIndexOpsMixin._parse_with_reso\u001b[0;34m(self, label)\u001b[0m\n\u001b[1;32m    229\u001b[0m \u001b[38;5;28;01mdef\u001b[39;00m \u001b[38;5;21m_parse_with_reso\u001b[39m(\u001b[38;5;28mself\u001b[39m, label: \u001b[38;5;28mstr\u001b[39m):\n\u001b[1;32m    230\u001b[0m     \u001b[38;5;66;03m# overridden by TimedeltaIndex\u001b[39;00m\n\u001b[0;32m--> 231\u001b[0m     parsed, reso_str \u001b[38;5;241m=\u001b[39m \u001b[43mparsing\u001b[49m\u001b[38;5;241;43m.\u001b[39;49m\u001b[43mparse_time_string\u001b[49m\u001b[43m(\u001b[49m\u001b[43mlabel\u001b[49m\u001b[43m,\u001b[49m\u001b[43m \u001b[49m\u001b[38;5;28;43mself\u001b[39;49m\u001b[38;5;241;43m.\u001b[39;49m\u001b[43mfreq\u001b[49m\u001b[43m)\u001b[49m\n\u001b[1;32m    232\u001b[0m     reso \u001b[38;5;241m=\u001b[39m Resolution\u001b[38;5;241m.\u001b[39mfrom_attrname(reso_str)\n",
      "File \u001b[0;32mpandas/_libs/tslibs/parsing.pyx:321\u001b[0m, in \u001b[0;36mpandas._libs.tslibs.parsing.parse_time_string\u001b[0;34m()\u001b[0m\n",
      "File \u001b[0;32mpandas/_libs/tslibs/parsing.pyx:367\u001b[0m, in \u001b[0;36mpandas._libs.tslibs.parsing.parse_datetime_string_with_reso\u001b[0;34m()\u001b[0m\n",
      "\u001b[0;31mDateParseError\u001b[0m: Unknown datetime string format, unable to parse: 2023-1-1 01:00:00 : 2023-1-1 04:00:00",
      "\nThe above exception was the direct cause of the following exception:\n",
      "\u001b[0;31mKeyError\u001b[0m                                  Traceback (most recent call last)",
      "Input \u001b[0;32mIn [11]\u001b[0m, in \u001b[0;36m<cell line: 8>\u001b[0;34m()\u001b[0m\n\u001b[1;32m      5\u001b[0m dateframe \u001b[38;5;241m=\u001b[39m dateframe\u001b[38;5;241m.\u001b[39mset_index(dateframe[\u001b[38;5;124m'\u001b[39m\u001b[38;5;124mdate\u001b[39m\u001b[38;5;124m'\u001b[39m])\n\u001b[1;32m      6\u001b[0m \u001b[38;5;28mprint\u001b[39m(dateframe)\n\u001b[0;32m----> 8\u001b[0m temp02 \u001b[38;5;241m=\u001b[39m \u001b[43mdateframe\u001b[49m\u001b[38;5;241;43m.\u001b[39;49m\u001b[43mloc\u001b[49m\u001b[43m[\u001b[49m\u001b[38;5;124;43m'\u001b[39;49m\u001b[38;5;124;43m2023-1-1 01:00:00 : 2023-1-1 04:00:00\u001b[39;49m\u001b[38;5;124;43m'\u001b[39;49m\u001b[43m]\u001b[49m\n\u001b[1;32m      9\u001b[0m \u001b[38;5;28mprint\u001b[39m(temp02)\n",
      "File \u001b[0;32m/opt/homebrew/Caskroom/miniforge/base/envs/AI/lib/python3.8/site-packages/pandas/core/indexing.py:967\u001b[0m, in \u001b[0;36m_LocationIndexer.__getitem__\u001b[0;34m(self, key)\u001b[0m\n\u001b[1;32m    964\u001b[0m axis \u001b[38;5;241m=\u001b[39m \u001b[38;5;28mself\u001b[39m\u001b[38;5;241m.\u001b[39maxis \u001b[38;5;129;01mor\u001b[39;00m \u001b[38;5;241m0\u001b[39m\n\u001b[1;32m    966\u001b[0m maybe_callable \u001b[38;5;241m=\u001b[39m com\u001b[38;5;241m.\u001b[39mapply_if_callable(key, \u001b[38;5;28mself\u001b[39m\u001b[38;5;241m.\u001b[39mobj)\n\u001b[0;32m--> 967\u001b[0m \u001b[38;5;28;01mreturn\u001b[39;00m \u001b[38;5;28;43mself\u001b[39;49m\u001b[38;5;241;43m.\u001b[39;49m\u001b[43m_getitem_axis\u001b[49m\u001b[43m(\u001b[49m\u001b[43mmaybe_callable\u001b[49m\u001b[43m,\u001b[49m\u001b[43m \u001b[49m\u001b[43maxis\u001b[49m\u001b[38;5;241;43m=\u001b[39;49m\u001b[43maxis\u001b[49m\u001b[43m)\u001b[49m\n",
      "File \u001b[0;32m/opt/homebrew/Caskroom/miniforge/base/envs/AI/lib/python3.8/site-packages/pandas/core/indexing.py:1202\u001b[0m, in \u001b[0;36m_LocIndexer._getitem_axis\u001b[0;34m(self, key, axis)\u001b[0m\n\u001b[1;32m   1200\u001b[0m \u001b[38;5;66;03m# fall thru to straight lookup\u001b[39;00m\n\u001b[1;32m   1201\u001b[0m \u001b[38;5;28mself\u001b[39m\u001b[38;5;241m.\u001b[39m_validate_key(key, axis)\n\u001b[0;32m-> 1202\u001b[0m \u001b[38;5;28;01mreturn\u001b[39;00m \u001b[38;5;28;43mself\u001b[39;49m\u001b[38;5;241;43m.\u001b[39;49m\u001b[43m_get_label\u001b[49m\u001b[43m(\u001b[49m\u001b[43mkey\u001b[49m\u001b[43m,\u001b[49m\u001b[43m \u001b[49m\u001b[43maxis\u001b[49m\u001b[38;5;241;43m=\u001b[39;49m\u001b[43maxis\u001b[49m\u001b[43m)\u001b[49m\n",
      "File \u001b[0;32m/opt/homebrew/Caskroom/miniforge/base/envs/AI/lib/python3.8/site-packages/pandas/core/indexing.py:1153\u001b[0m, in \u001b[0;36m_LocIndexer._get_label\u001b[0;34m(self, label, axis)\u001b[0m\n\u001b[1;32m   1151\u001b[0m \u001b[38;5;28;01mdef\u001b[39;00m \u001b[38;5;21m_get_label\u001b[39m(\u001b[38;5;28mself\u001b[39m, label, axis: \u001b[38;5;28mint\u001b[39m):\n\u001b[1;32m   1152\u001b[0m     \u001b[38;5;66;03m# GH#5667 this will fail if the label is not present in the axis.\u001b[39;00m\n\u001b[0;32m-> 1153\u001b[0m     \u001b[38;5;28;01mreturn\u001b[39;00m \u001b[38;5;28;43mself\u001b[39;49m\u001b[38;5;241;43m.\u001b[39;49m\u001b[43mobj\u001b[49m\u001b[38;5;241;43m.\u001b[39;49m\u001b[43mxs\u001b[49m\u001b[43m(\u001b[49m\u001b[43mlabel\u001b[49m\u001b[43m,\u001b[49m\u001b[43m \u001b[49m\u001b[43maxis\u001b[49m\u001b[38;5;241;43m=\u001b[39;49m\u001b[43maxis\u001b[49m\u001b[43m)\u001b[49m\n",
      "File \u001b[0;32m/opt/homebrew/Caskroom/miniforge/base/envs/AI/lib/python3.8/site-packages/pandas/core/generic.py:3864\u001b[0m, in \u001b[0;36mNDFrame.xs\u001b[0;34m(self, key, axis, level, drop_level)\u001b[0m\n\u001b[1;32m   3862\u001b[0m             new_index \u001b[38;5;241m=\u001b[39m index[loc]\n\u001b[1;32m   3863\u001b[0m \u001b[38;5;28;01melse\u001b[39;00m:\n\u001b[0;32m-> 3864\u001b[0m     loc \u001b[38;5;241m=\u001b[39m \u001b[43mindex\u001b[49m\u001b[38;5;241;43m.\u001b[39;49m\u001b[43mget_loc\u001b[49m\u001b[43m(\u001b[49m\u001b[43mkey\u001b[49m\u001b[43m)\u001b[49m\n\u001b[1;32m   3866\u001b[0m     \u001b[38;5;28;01mif\u001b[39;00m \u001b[38;5;28misinstance\u001b[39m(loc, np\u001b[38;5;241m.\u001b[39mndarray):\n\u001b[1;32m   3867\u001b[0m         \u001b[38;5;28;01mif\u001b[39;00m loc\u001b[38;5;241m.\u001b[39mdtype \u001b[38;5;241m==\u001b[39m np\u001b[38;5;241m.\u001b[39mbool_:\n",
      "File \u001b[0;32m/opt/homebrew/Caskroom/miniforge/base/envs/AI/lib/python3.8/site-packages/pandas/core/indexes/datetimes.py:646\u001b[0m, in \u001b[0;36mDatetimeIndex.get_loc\u001b[0;34m(self, key, method, tolerance)\u001b[0m\n\u001b[1;32m    644\u001b[0m     parsed, reso \u001b[38;5;241m=\u001b[39m \u001b[38;5;28mself\u001b[39m\u001b[38;5;241m.\u001b[39m_parse_with_reso(key)\n\u001b[1;32m    645\u001b[0m \u001b[38;5;28;01mexcept\u001b[39;00m \u001b[38;5;167;01mValueError\u001b[39;00m \u001b[38;5;28;01mas\u001b[39;00m err:\n\u001b[0;32m--> 646\u001b[0m     \u001b[38;5;28;01mraise\u001b[39;00m \u001b[38;5;167;01mKeyError\u001b[39;00m(key) \u001b[38;5;28;01mfrom\u001b[39;00m \u001b[38;5;21;01merr\u001b[39;00m\n\u001b[1;32m    648\u001b[0m \u001b[38;5;28;01mif\u001b[39;00m \u001b[38;5;28mself\u001b[39m\u001b[38;5;241m.\u001b[39m_can_partial_date_slice(reso):\n\u001b[1;32m    649\u001b[0m     \u001b[38;5;28;01mtry\u001b[39;00m:\n",
      "\u001b[0;31mKeyError\u001b[0m: '2023-1-1 01:00:00 : 2023-1-1 04:00:00'"
     ]
    }
   ],
   "source": [
    "# 두 datetime 사이의 샘플을 선택합니다. \n",
    "dateframe[(dateframe['date'] > '2023-1-1 01:00:00') &\n",
    "         (dateframe['date'] <= '2023-1-1 04:00:00')]\n",
    "\n",
    "dateframe = dateframe.set_index(dateframe['date'])\n",
    "print(dateframe)\n",
    "\n",
    "temp02 = dateframe.loc['2023-1-1 01:00:00':'2023-1-1 04:00:00']\n",
    "print(temp02)"
   ]
  },
  {
   "cell_type": "code",
   "execution_count": null,
   "id": "1958dbd9",
   "metadata": {},
   "outputs": [],
   "source": []
  }
 ],
 "metadata": {
  "kernelspec": {
   "display_name": "AI",
   "language": "python",
   "name": "ai"
  },
  "language_info": {
   "codemirror_mode": {
    "name": "ipython",
    "version": 3
   },
   "file_extension": ".py",
   "mimetype": "text/x-python",
   "name": "python",
   "nbconvert_exporter": "python",
   "pygments_lexer": "ipython3",
   "version": "3.8.12"
  }
 },
 "nbformat": 4,
 "nbformat_minor": 5
}
