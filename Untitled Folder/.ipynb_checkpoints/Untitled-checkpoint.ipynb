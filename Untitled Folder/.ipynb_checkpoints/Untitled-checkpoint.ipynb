{
 "cells": [
  {
   "cell_type": "markdown",
   "id": "972ae33d",
   "metadata": {},
   "source": [
    "## 문자열을 날짜로 변환"
   ]
  },
  {
   "cell_type": "code",
   "execution_count": 2,
   "id": "a6b87162",
   "metadata": {},
   "outputs": [],
   "source": [
    "import numpy as np\n",
    "import pandas as pd"
   ]
  },
  {
   "cell_type": "code",
   "execution_count": 3,
   "id": "16e0ae4b",
   "metadata": {},
   "outputs": [],
   "source": [
    "date_string = np.array(['03-04-2023 11:20 PM',\n",
    "                        '05-04-2023 09:20 PM',\n",
    "                        '07-04-2023 02:20 AM'\n",
    "                       ])"
   ]
  },
  {
   "cell_type": "markdown",
   "id": "6a455f56",
   "metadata": {},
   "source": [
    "### time stamp 객체로 변경"
   ]
  },
  {
   "cell_type": "code",
   "execution_count": 25,
   "id": "282fc076",
   "metadata": {},
   "outputs": [
    {
     "name": "stdout",
     "output_type": "stream",
     "text": [
      "2023-04-03 23:20:00\n",
      "2023-04-05 21:20:00\n",
      "2023-04-07 02:20:00\n",
      "2023-04-03 23:20:00\n",
      "2023-04-05 21:20:00\n",
      "2023-04-07 02:20:00\n"
     ]
    }
   ],
   "source": [
    "for data in date_string :\n",
    "    #print(data)\n",
    "    temp = pd.to_datetime(data, format= '%d-%m-%Y %I:%M %p')\n",
    "    print(temp)\n",
    "\n",
    "#errors 매개변수 - 오류처리\n",
    "    \n",
    "for data in date_string :\n",
    "    temp_value = pd.to_datetime(data, format = '%d-%m-%Y %I:%M %p', errors='ignore')\n",
    "    print(temp_value)"
   ]
  },
  {
   "cell_type": "markdown",
   "id": "c1819809",
   "metadata": {},
   "source": [
    "## 시간대 데이터 처리"
   ]
  },
  {
   "cell_type": "code",
   "execution_count": 30,
   "id": "cc67233a",
   "metadata": {},
   "outputs": [
    {
     "name": "stdout",
     "output_type": "stream",
     "text": [
      "2023-04-20 07:00:00\n"
     ]
    }
   ],
   "source": [
    "pd.Timestamp('2023-01-01 06:00:00', tz='Europe/London')\n",
    "data_temp = pd.Timestamp('2023-04-20 07:00:00')\n",
    "print(data_temp)"
   ]
  },
  {
   "cell_type": "code",
   "execution_count": 32,
   "id": "3913ce0d",
   "metadata": {},
   "outputs": [
    {
     "name": "stdout",
     "output_type": "stream",
     "text": [
      "2023-04-20 07:00:00+01:00\n"
     ]
    }
   ],
   "source": [
    "#시간대 지정\n",
    "date_in_london = data_temp.tz_localize('Europe/London')\n",
    "print(date_in_london)"
   ]
  },
  {
   "cell_type": "code",
   "execution_count": 37,
   "id": "d41b1fd5",
   "metadata": {},
   "outputs": [
    {
     "name": "stdout",
     "output_type": "stream",
     "text": [
      "0   2023-02-28 00:00:00+00:00\n",
      "1   2023-03-31 00:00:00+00:00\n",
      "2   2023-04-30 00:00:00+00:00\n",
      "dtype: datetime64[ns, Africa/Abidjan]\n"
     ]
    }
   ],
   "source": [
    "# 시간대를 변환\n",
    "date_in_london.tz_convert('Africa/Abidjan')\n",
    "\n",
    "#세 개의 날짜를 만들기\n",
    "dates_temp = pd.Series(pd.date_range('2/2/2023', periods=3, freq='M'))\n",
    "temp = dates_temp.dt.tz_localize('Africa/Abidjan')\n",
    "print(temp)"
   ]
  },
  {
   "cell_type": "markdown",
   "id": "d951acb9",
   "metadata": {},
   "source": [
    "## 시간대 데이터 처리 - 01"
   ]
  },
  {
   "cell_type": "code",
   "execution_count": 42,
   "id": "da88026f",
   "metadata": {},
   "outputs": [
    {
     "data": {
      "text/plain": [
       "['America/Maceio', 'America/Managua']"
      ]
     },
     "execution_count": 42,
     "metadata": {},
     "output_type": "execute_result"
    }
   ],
   "source": [
    "import pytz\n",
    "from pytz import all_timezones\n",
    "all_timezones[150:152]"
   ]
  },
  {
   "cell_type": "code",
   "execution_count": 44,
   "id": "c68ebef4",
   "metadata": {},
   "outputs": [
    {
     "data": {
      "text/plain": [
       "0   2023-02-28 00:00:00+09:00\n",
       "1   2023-03-31 00:00:00+09:00\n",
       "2   2023-04-30 00:00:00+09:00\n",
       "dtype: datetime64[ns, tzfile('ROK')]"
      ]
     },
     "execution_count": 44,
     "metadata": {},
     "output_type": "execute_result"
    }
   ],
   "source": [
    "dates_temp.dt.tz_localize('dateutil/Asia/Seoul')"
   ]
  },
  {
   "cell_type": "code",
   "execution_count": 49,
   "id": "5f9be43d",
   "metadata": {},
   "outputs": [
    {
     "name": "stdout",
     "output_type": "stream",
     "text": [
      "0   2023-02-28 00:00:00+09:00\n",
      "1   2023-03-31 00:00:00+09:00\n",
      "2   2023-04-30 00:00:00+09:00\n",
      "dtype: datetime64[ns, Asia/Seoul]\n"
     ]
    }
   ],
   "source": [
    "tz = pytz.timezone('Asia/Seoul')\n",
    "temp01 = dates_temp.dt.tz_localize(tz)\n",
    "print(temp01)"
   ]
  },
  {
   "cell_type": "code",
   "execution_count": 54,
   "id": "3a5f3ac4",
   "metadata": {},
   "outputs": [
    {
     "name": "stdout",
     "output_type": "stream",
     "text": [
      "                                   date\n",
      "date                                   \n",
      "2023-01-01 01:00:00 2023-01-01 01:00:00\n",
      "2023-01-01 02:00:00 2023-01-01 02:00:00\n",
      "2023-01-01 03:00:00 2023-01-01 03:00:00\n",
      "2023-01-01 04:00:00 2023-01-01 04:00:00\n"
     ]
    }
   ],
   "source": [
    "import pandas as pd\n",
    "\n",
    "dateframe = pd.DataFrame()\n",
    "# datetime을 만듭니다\n",
    "dateframe['date'] = pd.date_range('1/1/2023', periods=1000, freq='H')\n",
    "#periods 만들 개수\n",
    "\n",
    "#두 datetime 사이의 샘플을 선택합니다.\n",
    "dateframe[(dateframe['date'] > '2023-1-1 01:00:00') &\n",
    "         (dateframe['date'] <= '2023-1-1 04:00:00')]\n",
    "\n",
    "#새로운 datetime을 만듭니다.\n",
    "dateframe = dateframe.set_index(dateframe['date'])\n",
    "temp = dateframe.loc['2023-1-1 01:00:00' : '2023-1-1 04:00:00']\n",
    "print(temp)"
   ]
  }
 ],
 "metadata": {
  "kernelspec": {
   "display_name": "AI",
   "language": "python",
   "name": "ai"
  },
  "language_info": {
   "codemirror_mode": {
    "name": "ipython",
    "version": 3
   },
   "file_extension": ".py",
   "mimetype": "text/x-python",
   "name": "python",
   "nbconvert_exporter": "python",
   "pygments_lexer": "ipython3",
   "version": "3.11.3"
  }
 },
 "nbformat": 4,
 "nbformat_minor": 5
}
