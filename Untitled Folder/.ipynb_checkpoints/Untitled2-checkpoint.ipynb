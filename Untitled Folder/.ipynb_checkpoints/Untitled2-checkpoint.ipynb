{
 "cells": [
  {
   "cell_type": "markdown",
   "id": "d3127932",
   "metadata": {},
   "source": [
    "## 사이킷런 손글씨 데이터를 활용, 주성분 줄이기 차이 (결과값 비교)"
   ]
  },
  {
   "cell_type": "code",
   "execution_count": 2,
   "id": "5b0b6cac",
   "metadata": {},
   "outputs": [],
   "source": [
    "from sklearn.datasets import load_digits\n",
    "from sklearn.model_selection import train_test_split\n",
    "from sklearn.linear_model import LogisticRegression\n",
    "from sklearn.metrics import accuracy_score"
   ]
  },
  {
   "cell_type": "markdown",
   "id": "635df897",
   "metadata": {},
   "source": [
    "## 데이터 불러오기"
   ]
  },
  {
   "cell_type": "code",
   "execution_count": 5,
   "id": "509a18ba",
   "metadata": {},
   "outputs": [
    {
     "name": "stdout",
     "output_type": "stream",
     "text": [
      "1797\n",
      "1797\n",
      "1347 450\n",
      "1347 450\n"
     ]
    }
   ],
   "source": [
    "digits = load_digits()\n",
    "\n",
    "#진짜 차이가 있는지 체크 하기 위해 - > 정규화 하지 않은 데이터로 분류 모델 훈련\n",
    "print(len(digits.data))\n",
    "print(len(digits.target))\n",
    "x_train, x_test, y_train, y_test = train_test_split(digits.data, digits.target, random_state = 777)\n",
    "\n",
    "print(len(x_train), len(x_test))\n",
    "print(len(y_train), len(y_test))"
   ]
  }
 ],
 "metadata": {
  "kernelspec": {
   "display_name": "AI",
   "language": "python",
   "name": "ai"
  },
  "language_info": {
   "codemirror_mode": {
    "name": "ipython",
    "version": 3
   },
   "file_extension": ".py",
   "mimetype": "text/x-python",
   "name": "python",
   "nbconvert_exporter": "python",
   "pygments_lexer": "ipython3",
   "version": "3.11.3"
  }
 },
 "nbformat": 4,
 "nbformat_minor": 5
}
